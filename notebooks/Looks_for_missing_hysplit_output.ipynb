{
 "cells": [
  {
   "cell_type": "markdown",
   "id": "1988a19a",
   "metadata": {},
   "source": [
    "# Missing HYSPLIT runs/files?\n",
    "\n",
    "The idea of this script is to simply look at the folders where you have saved your runs. Create a dataframe which lists the missing runs (sometimes you have to end a loop and you forget to generate the rest e.g.). Once the dataframe of the missing datetimes is created. Just need to loop through them and generate HYSPLIT files for them.  \n",
    "\n",
    "this works with files with the name: \n",
    "GDAS1apr0250spring2013040100"
   ]
  },
  {
   "cell_type": "code",
   "execution_count": 1,
   "id": "cd886896",
   "metadata": {
    "ExecuteTime": {
     "end_time": "2023-12-28T18:02:38.818848Z",
     "start_time": "2023-12-28T18:02:36.335301Z"
    }
   },
   "outputs": [],
   "source": [
    "import sys\n",
    "import numpy as np\n",
    "import datetime\n",
    "from datetime import timedelta  \n",
    "from itertools import product\n",
    "import glob\n",
    "import pandas as pd\n",
    "from tqdm import tqdm, trange\n",
    "import os\n",
    "\n",
    "sys.path.append(r'C:\\Users\\DominicHeslinRees\\Documents\\ACP_2023\\scripts\\HYSPLIT-processing')\n",
    "import HYSPLIT_processing as HYprocess\n",
    "\n",
    "%load_ext autoreload\n",
    "%autoreload 2"
   ]
  },
  {
   "cell_type": "code",
   "execution_count": 5,
   "id": "4bc428b8",
   "metadata": {
    "ExecuteTime": {
     "end_time": "2023-11-25T16:09:31.440196Z",
     "start_time": "2023-11-25T16:09:31.359060Z"
    }
   },
   "outputs": [
    {
     "name": "stdout",
     "output_type": "stream",
     "text": [
      "{2002: '2002', 2003: '2003', 2004: '2004', 2005: '2005', 2006: '2006', 2007: '2007', 2008: '2008', 2009: '2009', 2010: '2010', 2011: '2011', 2012: '2012', 2013: '2013', 2014: '2014', 2015: '2015', 2016: '2016', 2017: '2017', 2018: '2018', 2019: '2019', 2020: '2020', 2021: '2021', 2022: '2022', 2023: '2023'}\n"
     ]
    }
   ],
   "source": [
    "path_HYSPLIT_files = \"D:\\\\HYSPLIT_runs_ensemble\\\\\"\n",
    "\n",
    "dict_year_to_HYSPLIT_folder = {}\n",
    "for year in list(np.arange(2002, 2024, 1)):\n",
    "    dict_year_to_HYSPLIT_folder[year] = str(year)\n",
    "print(dict_year_to_HYSPLIT_folder)"
   ]
  },
  {
   "cell_type": "code",
   "execution_count": 6,
   "id": "8c3fc379",
   "metadata": {
    "ExecuteTime": {
     "end_time": "2023-11-25T16:09:42.300773Z",
     "start_time": "2023-11-25T16:09:42.183758Z"
    }
   },
   "outputs": [
    {
     "name": "stdout",
     "output_type": "stream",
     "text": [
      "D:\\HYSPLIT_runs_ensemble\\2023\\GDAS1mar0250spring2023032705\n"
     ]
    }
   ],
   "source": [
    "year = 2023\n",
    "files = glob.glob(path_HYSPLIT_files+str(year)+\"\\\\GDAS*\")\n",
    "print(files[0])"
   ]
  },
  {
   "cell_type": "code",
   "execution_count": 7,
   "id": "61c73b5c",
   "metadata": {
    "ExecuteTime": {
     "end_time": "2023-11-25T16:09:44.609737Z",
     "start_time": "2023-11-25T16:09:44.528109Z"
    }
   },
   "outputs": [],
   "source": [
    "def sample_filter_name_to_data(sample_name):\n",
    "    \"\"\"get digits in strings\"\"\"\n",
    "    sample_name_unaltered = sample_name\n",
    "    sample_name = sample_name[-10:]\n",
    "    try:\n",
    "        sample_name = pd.to_datetime(sample_name, format='%Y%m%d%H')\n",
    "    except:\n",
    "        print(\"error:\")\n",
    "        print(sample_name)\n",
    "        print(sample_name_unaltered)\n",
    "    return sample_name    "
   ]
  },
  {
   "cell_type": "code",
   "execution_count": 8,
   "id": "890cba97",
   "metadata": {
    "ExecuteTime": {
     "end_time": "2023-11-25T16:09:45.156946Z",
     "start_time": "2023-11-25T16:09:45.074972Z"
    }
   },
   "outputs": [
    {
     "data": {
      "text/plain": [
       "Timestamp('2023-03-27 05:00:00')"
      ]
     },
     "execution_count": 8,
     "metadata": {},
     "output_type": "execute_result"
    }
   ],
   "source": [
    "sample_filter_name_to_data(files[0])"
   ]
  },
  {
   "cell_type": "code",
   "execution_count": 12,
   "id": "26e27006",
   "metadata": {
    "ExecuteTime": {
     "end_time": "2023-11-25T16:10:40.245159Z",
     "start_time": "2023-11-25T16:10:40.119933Z"
    }
   },
   "outputs": [],
   "source": [
    "def fraction_done(list_files, year):\n",
    "    datetimes = [sample_filter_name_to_data(x) for x in list_files]\n",
    "    df_datetimes = pd.DataFrame(index=datetimes)\n",
    "    df_datetimes.index = pd.to_datetime(df_datetimes.index)\n",
    "    df_datetimes['month'] = df_datetimes.index.month\n",
    "    months_counted = df_datetimes['month'].value_counts()\n",
    "    \n",
    "    df_months = pd.DataFrame(months_counted)   \n",
    "    rest = list(set(np.arange(1, 13, 1))-set(df_months.index)) #rest of the months not run yet\n",
    "\n",
    "    for i in rest:\n",
    "        df_months.loc[str(i)] = np.nan    \n",
    "    df_months.index = df_months.index.astype(int)    \n",
    "        \n",
    "    if year in [2004, 2008, 2012, 2016, 2020]: #leap year different dictionary of days\n",
    "        print(\"leap year:\")\n",
    "        dict_months_to_days = {1:31,2:29,3:31,4:30,5:31,6:30,7:31,8:31,9:30,10:31,11:30,12:31}\n",
    "    if year not in [2004, 2008, 2012, 2016, 2020]:\n",
    "        print(\"normal year:\")\n",
    "        dict_months_to_days = {1:31,2:28,3:31,4:30,5:31,6:30,7:31,8:31,9:30,10:31,11:30,12:31}\n",
    "    \n",
    "    df_months['potential_days'] = df_months.index.map(dict_months_to_days)\n",
    "    df_months['potential_data_points'] = df_months['potential_days']*24\n",
    "    df_months['fraction'] = df_months['month']/df_months['potential_data_points']\n",
    "    df_months = df_months.sort_index()\n",
    "    fraction = df_months['month'].sum() / df_months['potential_data_points'].sum()\n",
    "    df_months = df_months.rename(columns={'month':'hours_in_month_generated'})\n",
    "    df_months = df_months.rename(columns={'potential_data_points':'potential_hourly_data_points'})\n",
    "    print(\"fraction produced: \"+str(fraction))\n",
    "    df_months = df_months.sort_index()\n",
    "    return df_months"
   ]
  },
  {
   "cell_type": "code",
   "execution_count": 17,
   "id": "5a233eb1",
   "metadata": {
    "ExecuteTime": {
     "end_time": "2023-11-25T16:11:42.632922Z",
     "start_time": "2023-11-25T16:11:42.546717Z"
    }
   },
   "outputs": [],
   "source": [
    "year=2023"
   ]
  },
  {
   "cell_type": "code",
   "execution_count": 18,
   "id": "7e16b7d6",
   "metadata": {
    "ExecuteTime": {
     "end_time": "2023-11-25T16:11:44.241632Z",
     "start_time": "2023-11-25T16:11:43.086731Z"
    }
   },
   "outputs": [
    {
     "name": "stdout",
     "output_type": "stream",
     "text": [
      "normal year:\n",
      "fraction produced: 0.8711187214611872\n"
     ]
    },
    {
     "data": {
      "text/html": [
       "<div>\n",
       "<style scoped>\n",
       "    .dataframe tbody tr th:only-of-type {\n",
       "        vertical-align: middle;\n",
       "    }\n",
       "\n",
       "    .dataframe tbody tr th {\n",
       "        vertical-align: top;\n",
       "    }\n",
       "\n",
       "    .dataframe thead th {\n",
       "        text-align: right;\n",
       "    }\n",
       "</style>\n",
       "<table border=\"1\" class=\"dataframe\">\n",
       "  <thead>\n",
       "    <tr style=\"text-align: right;\">\n",
       "      <th></th>\n",
       "      <th>hours_in_month_generated</th>\n",
       "      <th>potential_days</th>\n",
       "      <th>potential_hourly_data_points</th>\n",
       "      <th>fraction</th>\n",
       "    </tr>\n",
       "  </thead>\n",
       "  <tbody>\n",
       "    <tr>\n",
       "      <th>1</th>\n",
       "      <td>744.0</td>\n",
       "      <td>31</td>\n",
       "      <td>744</td>\n",
       "      <td>1.000000</td>\n",
       "    </tr>\n",
       "    <tr>\n",
       "      <th>2</th>\n",
       "      <td>672.0</td>\n",
       "      <td>28</td>\n",
       "      <td>672</td>\n",
       "      <td>1.000000</td>\n",
       "    </tr>\n",
       "    <tr>\n",
       "      <th>3</th>\n",
       "      <td>744.0</td>\n",
       "      <td>31</td>\n",
       "      <td>744</td>\n",
       "      <td>1.000000</td>\n",
       "    </tr>\n",
       "    <tr>\n",
       "      <th>4</th>\n",
       "      <td>720.0</td>\n",
       "      <td>30</td>\n",
       "      <td>720</td>\n",
       "      <td>1.000000</td>\n",
       "    </tr>\n",
       "    <tr>\n",
       "      <th>5</th>\n",
       "      <td>744.0</td>\n",
       "      <td>31</td>\n",
       "      <td>744</td>\n",
       "      <td>1.000000</td>\n",
       "    </tr>\n",
       "    <tr>\n",
       "      <th>6</th>\n",
       "      <td>720.0</td>\n",
       "      <td>30</td>\n",
       "      <td>720</td>\n",
       "      <td>1.000000</td>\n",
       "    </tr>\n",
       "    <tr>\n",
       "      <th>7</th>\n",
       "      <td>744.0</td>\n",
       "      <td>31</td>\n",
       "      <td>744</td>\n",
       "      <td>1.000000</td>\n",
       "    </tr>\n",
       "    <tr>\n",
       "      <th>8</th>\n",
       "      <td>744.0</td>\n",
       "      <td>31</td>\n",
       "      <td>744</td>\n",
       "      <td>1.000000</td>\n",
       "    </tr>\n",
       "    <tr>\n",
       "      <th>9</th>\n",
       "      <td>720.0</td>\n",
       "      <td>30</td>\n",
       "      <td>720</td>\n",
       "      <td>1.000000</td>\n",
       "    </tr>\n",
       "    <tr>\n",
       "      <th>10</th>\n",
       "      <td>744.0</td>\n",
       "      <td>31</td>\n",
       "      <td>744</td>\n",
       "      <td>1.000000</td>\n",
       "    </tr>\n",
       "    <tr>\n",
       "      <th>11</th>\n",
       "      <td>335.0</td>\n",
       "      <td>30</td>\n",
       "      <td>720</td>\n",
       "      <td>0.465278</td>\n",
       "    </tr>\n",
       "    <tr>\n",
       "      <th>12</th>\n",
       "      <td>NaN</td>\n",
       "      <td>31</td>\n",
       "      <td>744</td>\n",
       "      <td>NaN</td>\n",
       "    </tr>\n",
       "  </tbody>\n",
       "</table>\n",
       "</div>"
      ],
      "text/plain": [
       "    hours_in_month_generated  potential_days  potential_hourly_data_points  \\\n",
       "1                      744.0              31                           744   \n",
       "2                      672.0              28                           672   \n",
       "3                      744.0              31                           744   \n",
       "4                      720.0              30                           720   \n",
       "5                      744.0              31                           744   \n",
       "6                      720.0              30                           720   \n",
       "7                      744.0              31                           744   \n",
       "8                      744.0              31                           744   \n",
       "9                      720.0              30                           720   \n",
       "10                     744.0              31                           744   \n",
       "11                     335.0              30                           720   \n",
       "12                       NaN              31                           744   \n",
       "\n",
       "    fraction  \n",
       "1   1.000000  \n",
       "2   1.000000  \n",
       "3   1.000000  \n",
       "4   1.000000  \n",
       "5   1.000000  \n",
       "6   1.000000  \n",
       "7   1.000000  \n",
       "8   1.000000  \n",
       "9   1.000000  \n",
       "10  1.000000  \n",
       "11  0.465278  \n",
       "12       NaN  "
      ]
     },
     "execution_count": 18,
     "metadata": {},
     "output_type": "execute_result"
    }
   ],
   "source": [
    "files = glob.glob(path_HYSPLIT_files+str(year)+\"\\\\GDAS*\")\n",
    "fraction_done(files, year=year)"
   ]
  },
  {
   "cell_type": "code",
   "execution_count": 19,
   "id": "90242028",
   "metadata": {
    "ExecuteTime": {
     "end_time": "2023-11-25T16:11:51.797116Z",
     "start_time": "2023-11-25T16:11:51.711633Z"
    }
   },
   "outputs": [],
   "source": [
    "def generate_datetimes(year):\n",
    "    start = datetime.datetime.strptime(\"01-01-\"+str(year), \"%d-%m-%Y\")\n",
    "    end = datetime.datetime.strptime(\"31-12-\"+str(year), \"%d-%m-%Y\")\n",
    "    date_generated = [start + datetime.timedelta(days=x) for x in range(0, (end-start).days)]\n",
    "    dates = [x.strftime(\"%d-%m-%Y\") for x in date_generated]   \n",
    "    return dates"
   ]
  },
  {
   "cell_type": "code",
   "execution_count": 20,
   "id": "15363dd7",
   "metadata": {
    "ExecuteTime": {
     "end_time": "2023-11-25T16:11:52.750346Z",
     "start_time": "2023-11-25T16:11:52.678959Z"
    }
   },
   "outputs": [],
   "source": [
    "dates = generate_datetimes(year)"
   ]
  },
  {
   "cell_type": "code",
   "execution_count": 21,
   "id": "644c895a",
   "metadata": {
    "ExecuteTime": {
     "end_time": "2023-11-25T16:11:53.952355Z",
     "start_time": "2023-11-25T16:11:53.871450Z"
    }
   },
   "outputs": [],
   "source": [
    "def add_times(dates):\n",
    "    times = [timedelta(hours=int(i)) for i in np.arange(0, 24, 1)]\n",
    "    times = [str(datetime.datetime.strptime(str(x),'%H:%M:%S').time()) for x in times]\n",
    "    datetimes = list(product(dates,times))\n",
    "    datetimes = [pd.to_datetime(x[0] +' '+ x[1]) for x in datetimes]\n",
    "    return datetimes"
   ]
  },
  {
   "cell_type": "code",
   "execution_count": 22,
   "id": "b3e4736e",
   "metadata": {
    "ExecuteTime": {
     "end_time": "2023-11-25T16:11:54.627477Z",
     "start_time": "2023-11-25T16:11:54.538344Z"
    }
   },
   "outputs": [
    {
     "data": {
      "text/plain": [
       "'D:\\\\HYSPLIT_runs_ensemble\\\\'"
      ]
     },
     "execution_count": 22,
     "metadata": {},
     "output_type": "execute_result"
    }
   ],
   "source": [
    "path_HYSPLIT_files"
   ]
  },
  {
   "cell_type": "code",
   "execution_count": 23,
   "id": "e43dc583",
   "metadata": {
    "ExecuteTime": {
     "end_time": "2023-11-25T16:11:55.867542Z",
     "start_time": "2023-11-25T16:11:55.786553Z"
    }
   },
   "outputs": [
    {
     "data": {
      "text/plain": [
       "{2002: '2002',\n",
       " 2003: '2003',\n",
       " 2004: '2004',\n",
       " 2005: '2005',\n",
       " 2006: '2006',\n",
       " 2007: '2007',\n",
       " 2008: '2008',\n",
       " 2009: '2009',\n",
       " 2010: '2010',\n",
       " 2011: '2011',\n",
       " 2012: '2012',\n",
       " 2013: '2013',\n",
       " 2014: '2014',\n",
       " 2015: '2015',\n",
       " 2016: '2016',\n",
       " 2017: '2017',\n",
       " 2018: '2018',\n",
       " 2019: '2019',\n",
       " 2020: '2020',\n",
       " 2021: '2021',\n",
       " 2022: '2022',\n",
       " 2023: '2023'}"
      ]
     },
     "execution_count": 23,
     "metadata": {},
     "output_type": "execute_result"
    }
   ],
   "source": [
    "dict_year_to_HYSPLIT_folder"
   ]
  },
  {
   "cell_type": "code",
   "execution_count": 24,
   "id": "7c93aa4c",
   "metadata": {
    "ExecuteTime": {
     "end_time": "2023-11-25T16:12:00.192456Z",
     "start_time": "2023-11-25T16:11:59.988334Z"
    }
   },
   "outputs": [
    {
     "name": "stdout",
     "output_type": "stream",
     "text": [
      "Year: 2023\n",
      "Path: D:\\HYSPLIT_runs_ensemble\\2023\\\n",
      "2023\n",
      "number of files: 7631\n",
      "inputyr_2digits=False i.e. str(year)\n",
      "added day and month now*\n",
      "D:\\HYSPLIT_runs_ensemble\\2023\\GDAS*2023*\n",
      "Number of HYSPLIT files for 2023: 7621\n",
      "7621\n"
     ]
    }
   ],
   "source": [
    "years = 2023\n",
    "list_of_ = HYprocess.find_HYSPLIT_files_per_year(years, path_HYSPLIT_files, dict_year_to_HYSPLIT_folder, \n",
    "                                      prefix='GDAS', inputyr_2digits=False)\n",
    "print(len(list_of_))"
   ]
  },
  {
   "cell_type": "code",
   "execution_count": 25,
   "id": "2d7f7f98",
   "metadata": {
    "ExecuteTime": {
     "end_time": "2023-11-25T16:12:04.078709Z",
     "start_time": "2023-11-25T16:12:03.999293Z"
    }
   },
   "outputs": [],
   "source": [
    "def generate_df_missing_datetimes(years, inpath, prefix='GDAS'):\n",
    "    dict_year_to_df = {}\n",
    "    dict_year_to_missing_df = {}\n",
    "    for year in years: \n",
    "        print(\"year: \"+str(year))   \n",
    "        list_of_HYSPLIT_files_per_year = HYprocess.find_HYSPLIT_files_per_year(year, inpath, \n",
    "                                                                   dict_year_to_HYSPLIT_folder, \n",
    "                                                                   prefix) #list of HYSPLIT files\n",
    "        if len(list_of_HYSPLIT_files_per_year) > 0:\n",
    "            list_files = list_of_HYSPLIT_files_per_year.copy() #copy for later\n",
    "            df_months = fraction_done(list_files, year)\n",
    "            dict_year_to_df[year] = df_months \n",
    "\n",
    "            datetimes = [sample_filter_name_to_data(x) for x in list_files]\n",
    "\n",
    "            dates = generate_datetimes(year=year)    \n",
    "            datetimes_potential = add_times(dates)\n",
    "\n",
    "            missing_datetimes_list = set(datetimes_potential).difference(set(datetimes))\n",
    "            #print(missing_datetimes_list)\n",
    "            print(\"number of missing datetimes: \"+str(len(missing_datetimes_list)))   \n",
    "\n",
    "            if len(missing_datetimes_list) > 0:\n",
    "                df_missing_datetimes = pd.DataFrame(index=missing_datetimes_list)\n",
    "                dict_year_to_missing_df[year] = df_missing_datetimes \n",
    "    \n",
    "    if len(dict_year_to_missing_df) > 0:    \n",
    "        df_all_missing = pd.concat(dict_year_to_missing_df)\n",
    "        df_all_missing = df_all_missing.reset_index()\n",
    "        df_all_missing.columns = ['year', 'datetime']\n",
    "        df_all_missing = df_all_missing.sort_values(['datetime'])\n",
    "        \n",
    "    if len(dict_year_to_missing_df) == 0:\n",
    "        print(\"all good\")\n",
    "        df_all_missing = pd.DataFrame(columns=['year', 'datetime'])\n",
    "        dict_year_to_missing_df\n",
    "    \n",
    "    return df_all_missing, dict_year_to_df"
   ]
  },
  {
   "cell_type": "code",
   "execution_count": 26,
   "id": "78ff83a4",
   "metadata": {
    "ExecuteTime": {
     "end_time": "2023-11-25T16:13:39.357688Z",
     "start_time": "2023-11-25T16:12:09.010367Z"
    }
   },
   "outputs": [
    {
     "name": "stdout",
     "output_type": "stream",
     "text": [
      "D:\\HYSPLIT_runs_ensemble\\\n",
      "year: 2002\n",
      "Year: 2002\n",
      "Path: D:\\HYSPLIT_runs_ensemble\\2002\\\n",
      "2002\n",
      "year has a length of zero: \n",
      "Number of HYSPLIT files for 2002: 0\n",
      "year: 2003\n",
      "Year: 2003\n",
      "Path: D:\\HYSPLIT_runs_ensemble\\2003\\\n",
      "2003\n",
      "year has a length of zero: \n",
      "Number of HYSPLIT files for 2003: 0\n",
      "year: 2004\n",
      "Year: 2004\n",
      "Path: D:\\HYSPLIT_runs_ensemble\\2004\\\n",
      "2004\n",
      "year has a length of zero: \n",
      "Number of HYSPLIT files for 2004: 0\n",
      "year: 2005\n",
      "Year: 2005\n",
      "Path: D:\\HYSPLIT_runs_ensemble\\2005\\\n",
      "2005\n",
      "number of files: 8736\n",
      "inputyr_2digits=False i.e. str(year)\n",
      "added day and month now*\n",
      "D:\\HYSPLIT_runs_ensemble\\2005\\GDAS*2005*\n",
      "Number of HYSPLIT files for 2005: 8724\n",
      "normal year:\n",
      "fraction produced: 0.9958904109589041\n",
      "number of missing datetimes: 12\n",
      "year: 2006\n",
      "Year: 2006\n",
      "Path: D:\\HYSPLIT_runs_ensemble\\2006\\\n",
      "2006\n",
      "number of files: 8773\n",
      "inputyr_2digits=False i.e. str(year)\n",
      "added day and month now*\n",
      "D:\\HYSPLIT_runs_ensemble\\2006\\GDAS*2006*\n",
      "Number of HYSPLIT files for 2006: 8749\n",
      "normal year:\n",
      "fraction produced: 0.9987442922374429\n",
      "number of missing datetimes: 12\n",
      "year: 2007\n",
      "Year: 2007\n",
      "Path: D:\\HYSPLIT_runs_ensemble\\2007\\\n",
      "2007\n",
      "number of files: 8772\n",
      "inputyr_2digits=False i.e. str(year)\n",
      "added day and month now*\n",
      "D:\\HYSPLIT_runs_ensemble\\2007\\GDAS*2007*\n",
      "Number of HYSPLIT files for 2007: 8748\n",
      "normal year:\n",
      "fraction produced: 0.9986301369863013\n",
      "number of missing datetimes: 12\n",
      "year: 2008\n",
      "Year: 2008\n",
      "Path: D:\\HYSPLIT_runs_ensemble\\2008\\\n",
      "2008\n",
      "number of files: 8784\n",
      "inputyr_2digits=False i.e. str(year)\n",
      "added day and month now*\n",
      "D:\\HYSPLIT_runs_ensemble\\2008\\GDAS*2008*\n",
      "Number of HYSPLIT files for 2008: 8772\n",
      "leap year:\n",
      "fraction produced: 0.9986338797814208\n",
      "number of missing datetimes: 12\n",
      "year: 2009\n",
      "Year: 2009\n",
      "Path: D:\\HYSPLIT_runs_ensemble\\2009\\\n",
      "2009\n",
      "number of files: 8736\n",
      "inputyr_2digits=False i.e. str(year)\n",
      "added day and month now*\n",
      "D:\\HYSPLIT_runs_ensemble\\2009\\GDAS*2009*\n",
      "Number of HYSPLIT files for 2009: 8724\n",
      "normal year:\n",
      "fraction produced: 0.9958904109589041\n",
      "number of missing datetimes: 12\n",
      "year: 2010\n",
      "Year: 2010\n",
      "Path: D:\\HYSPLIT_runs_ensemble\\2010\\\n",
      "2010\n",
      "number of files: 8736\n",
      "inputyr_2digits=False i.e. str(year)\n",
      "added day and month now*\n",
      "D:\\HYSPLIT_runs_ensemble\\2010\\GDAS*2010*\n",
      "Number of HYSPLIT files for 2010: 8704\n",
      "normal year:\n",
      "fraction produced: 0.993607305936073\n",
      "number of missing datetimes: 32\n",
      "year: 2011\n",
      "Year: 2011\n",
      "Path: D:\\HYSPLIT_runs_ensemble\\2011\\\n",
      "2011\n",
      "number of files: 8736\n",
      "inputyr_2digits=False i.e. str(year)\n",
      "added day and month now*\n",
      "D:\\HYSPLIT_runs_ensemble\\2011\\GDAS*2011*\n",
      "Number of HYSPLIT files for 2011: 8704\n",
      "normal year:\n",
      "fraction produced: 0.993607305936073\n",
      "number of missing datetimes: 32\n",
      "year: 2012\n",
      "Year: 2012\n",
      "Path: D:\\HYSPLIT_runs_ensemble\\2012\\\n",
      "2012\n",
      "number of files: 8760\n",
      "inputyr_2digits=False i.e. str(year)\n",
      "added day and month now*\n",
      "D:\\HYSPLIT_runs_ensemble\\2012\\GDAS*2012*\n",
      "Number of HYSPLIT files for 2012: 8740\n",
      "leap year:\n",
      "fraction produced: 0.9949908925318761\n",
      "number of missing datetimes: 20\n",
      "year: 2013\n",
      "Year: 2013\n",
      "Path: D:\\HYSPLIT_runs_ensemble\\2013\\\n",
      "2013\n",
      "number of files: 8736\n",
      "inputyr_2digits=False i.e. str(year)\n",
      "added day and month now*\n",
      "D:\\HYSPLIT_runs_ensemble\\2013\\GDAS*2013*\n",
      "Number of HYSPLIT files for 2013: 8724\n",
      "normal year:\n",
      "fraction produced: 0.9958904109589041\n",
      "number of missing datetimes: 12\n",
      "year: 2014\n",
      "Year: 2014\n",
      "Path: D:\\HYSPLIT_runs_ensemble\\2014\\\n",
      "2014\n",
      "number of files: 8736\n",
      "inputyr_2digits=False i.e. str(year)\n",
      "added day and month now*\n",
      "D:\\HYSPLIT_runs_ensemble\\2014\\GDAS*2014*\n",
      "Number of HYSPLIT files for 2014: 8724\n",
      "normal year:\n",
      "fraction produced: 0.9958904109589041\n",
      "number of missing datetimes: 12\n",
      "year: 2015\n",
      "Year: 2015\n",
      "Path: D:\\HYSPLIT_runs_ensemble\\2015\\\n",
      "2015\n",
      "number of files: 8736\n",
      "inputyr_2digits=False i.e. str(year)\n",
      "added day and month now*\n",
      "D:\\HYSPLIT_runs_ensemble\\2015\\GDAS*2015*\n",
      "Number of HYSPLIT files for 2015: 8724\n",
      "normal year:\n",
      "fraction produced: 0.9958904109589041\n",
      "number of missing datetimes: 12\n",
      "year: 2016\n",
      "Year: 2016\n",
      "Path: D:\\HYSPLIT_runs_ensemble\\2016\\\n",
      "2016\n",
      "number of files: 8784\n",
      "inputyr_2digits=False i.e. str(year)\n",
      "added day and month now*\n",
      "D:\\HYSPLIT_runs_ensemble\\2016\\GDAS*2016*\n",
      "Number of HYSPLIT files for 2016: 8772\n",
      "leap year:\n",
      "fraction produced: 0.9986338797814208\n",
      "number of missing datetimes: 12\n",
      "year: 2017\n",
      "Year: 2017\n",
      "Path: D:\\HYSPLIT_runs_ensemble\\2017\\\n",
      "2017\n",
      "number of files: 8760\n",
      "inputyr_2digits=False i.e. str(year)\n",
      "added day and month now*\n",
      "D:\\HYSPLIT_runs_ensemble\\2017\\GDAS*2017*\n",
      "Number of HYSPLIT files for 2017: 8748\n",
      "normal year:\n",
      "fraction produced: 0.9986301369863013\n",
      "number of missing datetimes: 12\n",
      "year: 2018\n",
      "Year: 2018\n",
      "Path: D:\\HYSPLIT_runs_ensemble\\2018\\\n",
      "2018\n",
      "number of files: 8760\n",
      "inputyr_2digits=False i.e. str(year)\n",
      "added day and month now*\n",
      "D:\\HYSPLIT_runs_ensemble\\2018\\GDAS*2018*\n",
      "Number of HYSPLIT files for 2018: 8748\n",
      "normal year:\n",
      "fraction produced: 0.9986301369863013\n",
      "number of missing datetimes: 12\n",
      "year: 2019\n",
      "Year: 2019\n",
      "Path: D:\\HYSPLIT_runs_ensemble\\2019\\\n",
      "2019\n",
      "number of files: 8760\n",
      "inputyr_2digits=False i.e. str(year)\n",
      "added day and month now*\n",
      "D:\\HYSPLIT_runs_ensemble\\2019\\GDAS*2019*\n",
      "Number of HYSPLIT files for 2019: 8748\n",
      "normal year:\n",
      "fraction produced: 0.9986301369863013\n",
      "number of missing datetimes: 12\n",
      "year: 2020\n",
      "Year: 2020\n",
      "Path: D:\\HYSPLIT_runs_ensemble\\2020\\\n",
      "2020\n",
      "number of files: 8784\n",
      "inputyr_2digits=False i.e. str(year)\n",
      "added day and month now*\n",
      "D:\\HYSPLIT_runs_ensemble\\2020\\GDAS*2020*\n",
      "Number of HYSPLIT files for 2020: 8752\n",
      "leap year:\n",
      "fraction produced: 0.9963570127504554\n",
      "number of missing datetimes: 32\n",
      "year: 2021\n",
      "Year: 2021\n",
      "Path: D:\\HYSPLIT_runs_ensemble\\2021\\\n",
      "2021\n",
      "number of files: 8760\n",
      "inputyr_2digits=False i.e. str(year)\n",
      "added day and month now*\n",
      "D:\\HYSPLIT_runs_ensemble\\2021\\GDAS*2021*\n",
      "Number of HYSPLIT files for 2021: 8728\n",
      "normal year:\n",
      "fraction produced: 0.9963470319634703\n",
      "number of missing datetimes: 32\n",
      "year: 2022\n",
      "Year: 2022\n",
      "Path: D:\\HYSPLIT_runs_ensemble\\2022\\\n",
      "2022\n",
      "number of files: 8736\n",
      "inputyr_2digits=False i.e. str(year)\n",
      "added day and month now*\n",
      "D:\\HYSPLIT_runs_ensemble\\2022\\GDAS*2022*\n",
      "Number of HYSPLIT files for 2022: 8716\n",
      "normal year:\n",
      "fraction produced: 0.9949771689497717\n",
      "number of missing datetimes: 20\n",
      "year: 2023\n",
      "Year: 2023\n",
      "Path: D:\\HYSPLIT_runs_ensemble\\2023\\\n",
      "2023\n",
      "number of files: 7631\n",
      "inputyr_2digits=False i.e. str(year)\n",
      "added day and month now*\n",
      "D:\\HYSPLIT_runs_ensemble\\2023\\GDAS*2023*\n",
      "Number of HYSPLIT files for 2023: 7621\n",
      "normal year:\n",
      "fraction produced: 0.8699771689497717\n",
      "number of missing datetimes: 1115\n"
     ]
    }
   ],
   "source": [
    "print(path_HYSPLIT_files)\n",
    "df_all_missing, dict_year_to_df = generate_df_missing_datetimes(years = list(np.arange(2002, 2024, 1)),\n",
    "                                              inpath=path_HYSPLIT_files, prefix='GDAS')"
   ]
  },
  {
   "cell_type": "code",
   "execution_count": 27,
   "id": "f9c1f8b5",
   "metadata": {
    "ExecuteTime": {
     "end_time": "2023-11-25T16:13:39.670804Z",
     "start_time": "2023-11-25T16:13:39.592102Z"
    }
   },
   "outputs": [
    {
     "data": {
      "text/plain": [
       "array([2005, 2006, 2007, 2008, 2009, 2010, 2011, 2012, 2013, 2014, 2015,\n",
       "       2016, 2017, 2018, 2019, 2020, 2021, 2022, 2023], dtype=int64)"
      ]
     },
     "execution_count": 27,
     "metadata": {},
     "output_type": "execute_result"
    }
   ],
   "source": [
    "df_all_missing.year.unique()"
   ]
  },
  {
   "cell_type": "code",
   "execution_count": 28,
   "id": "20396214",
   "metadata": {
    "ExecuteTime": {
     "end_time": "2023-11-25T16:13:39.989955Z",
     "start_time": "2023-11-25T16:13:39.907478Z"
    }
   },
   "outputs": [
    {
     "data": {
      "text/html": [
       "<div>\n",
       "<style scoped>\n",
       "    .dataframe tbody tr th:only-of-type {\n",
       "        vertical-align: middle;\n",
       "    }\n",
       "\n",
       "    .dataframe tbody tr th {\n",
       "        vertical-align: top;\n",
       "    }\n",
       "\n",
       "    .dataframe thead th {\n",
       "        text-align: right;\n",
       "    }\n",
       "</style>\n",
       "<table border=\"1\" class=\"dataframe\">\n",
       "  <thead>\n",
       "    <tr style=\"text-align: right;\">\n",
       "      <th></th>\n",
       "      <th>year</th>\n",
       "      <th>datetime</th>\n",
       "    </tr>\n",
       "  </thead>\n",
       "  <tbody>\n",
       "    <tr>\n",
       "      <th>3</th>\n",
       "      <td>2005</td>\n",
       "      <td>2005-01-20 05:00:00</td>\n",
       "    </tr>\n",
       "    <tr>\n",
       "      <th>10</th>\n",
       "      <td>2005</td>\n",
       "      <td>2005-02-20 05:00:00</td>\n",
       "    </tr>\n",
       "    <tr>\n",
       "      <th>4</th>\n",
       "      <td>2005</td>\n",
       "      <td>2005-03-20 05:00:00</td>\n",
       "    </tr>\n",
       "    <tr>\n",
       "      <th>2</th>\n",
       "      <td>2005</td>\n",
       "      <td>2005-04-20 05:00:00</td>\n",
       "    </tr>\n",
       "    <tr>\n",
       "      <th>1</th>\n",
       "      <td>2005</td>\n",
       "      <td>2005-05-20 05:00:00</td>\n",
       "    </tr>\n",
       "  </tbody>\n",
       "</table>\n",
       "</div>"
      ],
      "text/plain": [
       "    year            datetime\n",
       "3   2005 2005-01-20 05:00:00\n",
       "10  2005 2005-02-20 05:00:00\n",
       "4   2005 2005-03-20 05:00:00\n",
       "2   2005 2005-04-20 05:00:00\n",
       "1   2005 2005-05-20 05:00:00"
      ]
     },
     "execution_count": 28,
     "metadata": {},
     "output_type": "execute_result"
    }
   ],
   "source": [
    "df_all_missing.head(5)"
   ]
  },
  {
   "cell_type": "code",
   "execution_count": 29,
   "id": "471dee63",
   "metadata": {
    "ExecuteTime": {
     "end_time": "2023-11-25T16:13:40.295180Z",
     "start_time": "2023-11-25T16:13:40.218006Z"
    }
   },
   "outputs": [
    {
     "data": {
      "text/plain": [
       "1427"
      ]
     },
     "execution_count": 29,
     "metadata": {},
     "output_type": "execute_result"
    }
   ],
   "source": [
    "len(df_all_missing)"
   ]
  },
  {
   "cell_type": "code",
   "execution_count": 30,
   "id": "53a8a7e3",
   "metadata": {
    "ExecuteTime": {
     "end_time": "2023-11-25T16:13:40.606311Z",
     "start_time": "2023-11-25T16:13:40.528676Z"
    }
   },
   "outputs": [],
   "source": [
    "def get_memory(filename):\n",
    "    memory = os.stat(filename).st_size\n",
    "    #print(memory)\n",
    "    return memory"
   ]
  },
  {
   "cell_type": "code",
   "execution_count": 31,
   "id": "8708a13d",
   "metadata": {
    "ExecuteTime": {
     "end_time": "2023-11-25T16:13:40.921980Z",
     "start_time": "2023-11-25T16:13:40.833598Z"
    }
   },
   "outputs": [],
   "source": [
    "def get_list_of_files_with_too_little_memory(files, memory_threshold, year=None):\n",
    "    files_too_little_memory = []\n",
    "    if year is not None:\n",
    "        files = glob.glob(path_HYSPLIT_files+str(year)+\"\\\\GDAS*\")       \n",
    "    for file in files:\n",
    "        memory = get_memory(filename=file)\n",
    "        if memory < memory_threshold:\n",
    "            #print(memory)\n",
    "            #print(file)\n",
    "            files_too_little_memory.append(file)\n",
    "    return files_too_little_memory"
   ]
  },
  {
   "cell_type": "code",
   "execution_count": 32,
   "id": "12869a13",
   "metadata": {
    "ExecuteTime": {
     "end_time": "2023-11-25T16:13:53.736619Z",
     "start_time": "2023-11-25T16:13:41.155457Z"
    }
   },
   "outputs": [],
   "source": [
    "files_too_little_memory = get_list_of_files_with_too_little_memory(files=None, memory_threshold=8000, year=2017)"
   ]
  },
  {
   "cell_type": "code",
   "execution_count": 33,
   "id": "562f5e29",
   "metadata": {
    "ExecuteTime": {
     "end_time": "2023-11-25T16:13:54.061950Z",
     "start_time": "2023-11-25T16:13:53.979605Z"
    }
   },
   "outputs": [],
   "source": [
    "def generate_df_missing_datetimes_memory(years, inpath, prefix='GDAS'):\n",
    "    dict_year_to_df = {}\n",
    "    dict_year_to_missing_df = {}\n",
    "    for year in years: \n",
    "        print(\"year: \"+str(year))   \n",
    "        list_of_HYSPLIT_files_per_year = HYprocess.find_HYSPLIT_files_per_year(year, inpath, \n",
    "                                                                   dict_year_to_HYSPLIT_folder, \n",
    "                                                                   prefix) #list of HYSPLIT files\n",
    "        if len(list_of_HYSPLIT_files_per_year) > 0:\n",
    "            list_files = list_of_HYSPLIT_files_per_year.copy() #copy for later\n",
    "            df_months = fraction_done(list_files, year)\n",
    "            dict_year_to_df[year] = df_months \n",
    "            \n",
    "            files_too_little_memory = get_list_of_files_with_too_little_memory(list_files, memory_threshold=8000)\n",
    "    \n",
    "            missing_datetimes_list = [sample_filter_name_to_data(x) for x in files_too_little_memory]\n",
    "\n",
    "            print(\"number of datetimes with too little memory: \"+str(len(files_too_little_memory )))   \n",
    "\n",
    "            if len(files_too_little_memory) > 0:\n",
    "                print(\"more than one\")\n",
    "                df_missing_datetimes = pd.DataFrame(index=missing_datetimes_list)\n",
    "                dict_year_to_missing_df[year] = df_missing_datetimes  \n",
    "            if len(files_too_little_memory) == 0:\n",
    "                dict_year_to_missing_df[year] = pd.DataFrame()\n",
    "                pass\n",
    "                \n",
    "    if len(df_missing_datetimes) > 0:\n",
    "        df_all_missing = pd.concat(dict_year_to_missing_df)\n",
    "        df_all_missing = df_all_missing.reset_index()\n",
    "        df_all_missing.columns = ['year', 'datetime']\n",
    "        df_all_missing = df_all_missing.sort_values(['datetime'])\n",
    "            \n",
    "    if len(df_missing_datetimes) == 0:\n",
    "        print(\"all good\")\n",
    "        df_all_missing = pd.DataFrame(columns=['year', 'datetime'])\n",
    "        \n",
    "    return df_all_missing, dict_year_to_df"
   ]
  },
  {
   "cell_type": "code",
   "execution_count": 34,
   "id": "e08aeea0",
   "metadata": {
    "ExecuteTime": {
     "end_time": "2023-11-25T16:18:03.746210Z",
     "start_time": "2023-11-25T16:13:54.301954Z"
    }
   },
   "outputs": [
    {
     "name": "stdout",
     "output_type": "stream",
     "text": [
      "year: 2002\n",
      "Year: 2002\n",
      "Path: D:\\HYSPLIT_runs_ensemble\\2002\\\n",
      "2002\n",
      "year has a length of zero: \n",
      "Number of HYSPLIT files for 2002: 0\n",
      "year: 2003\n",
      "Year: 2003\n",
      "Path: D:\\HYSPLIT_runs_ensemble\\2003\\\n",
      "2003\n",
      "year has a length of zero: \n",
      "Number of HYSPLIT files for 2003: 0\n",
      "year: 2004\n",
      "Year: 2004\n",
      "Path: D:\\HYSPLIT_runs_ensemble\\2004\\\n",
      "2004\n",
      "year has a length of zero: \n",
      "Number of HYSPLIT files for 2004: 0\n",
      "year: 2005\n",
      "Year: 2005\n",
      "Path: D:\\HYSPLIT_runs_ensemble\\2005\\\n",
      "2005\n",
      "number of files: 8736\n",
      "inputyr_2digits=False i.e. str(year)\n",
      "added day and month now*\n",
      "D:\\HYSPLIT_runs_ensemble\\2005\\GDAS*2005*\n",
      "Number of HYSPLIT files for 2005: 8724\n",
      "normal year:\n",
      "fraction produced: 0.9958904109589041\n",
      "number of datetimes with too little memory: 89\n",
      "more than one\n",
      "year: 2006\n",
      "Year: 2006\n",
      "Path: D:\\HYSPLIT_runs_ensemble\\2006\\\n",
      "2006\n",
      "number of files: 8773\n",
      "inputyr_2digits=False i.e. str(year)\n",
      "added day and month now*\n",
      "D:\\HYSPLIT_runs_ensemble\\2006\\GDAS*2006*\n",
      "Number of HYSPLIT files for 2006: 8749\n",
      "normal year:\n",
      "fraction produced: 0.9987442922374429\n",
      "number of datetimes with too little memory: 1\n",
      "more than one\n",
      "year: 2007\n",
      "Year: 2007\n",
      "Path: D:\\HYSPLIT_runs_ensemble\\2007\\\n",
      "2007\n",
      "number of files: 8772\n",
      "inputyr_2digits=False i.e. str(year)\n",
      "added day and month now*\n",
      "D:\\HYSPLIT_runs_ensemble\\2007\\GDAS*2007*\n",
      "Number of HYSPLIT files for 2007: 8748\n",
      "normal year:\n",
      "fraction produced: 0.9986301369863013\n",
      "number of datetimes with too little memory: 0\n",
      "year: 2008\n",
      "Year: 2008\n",
      "Path: D:\\HYSPLIT_runs_ensemble\\2008\\\n",
      "2008\n",
      "number of files: 8784\n",
      "inputyr_2digits=False i.e. str(year)\n",
      "added day and month now*\n",
      "D:\\HYSPLIT_runs_ensemble\\2008\\GDAS*2008*\n",
      "Number of HYSPLIT files for 2008: 8772\n",
      "leap year:\n",
      "fraction produced: 0.9986338797814208\n",
      "number of datetimes with too little memory: 225\n",
      "more than one\n",
      "year: 2009\n",
      "Year: 2009\n",
      "Path: D:\\HYSPLIT_runs_ensemble\\2009\\\n",
      "2009\n",
      "number of files: 8736\n",
      "inputyr_2digits=False i.e. str(year)\n",
      "added day and month now*\n",
      "D:\\HYSPLIT_runs_ensemble\\2009\\GDAS*2009*\n",
      "Number of HYSPLIT files for 2009: 8724\n",
      "normal year:\n",
      "fraction produced: 0.9958904109589041\n",
      "number of datetimes with too little memory: 0\n",
      "year: 2010\n",
      "Year: 2010\n",
      "Path: D:\\HYSPLIT_runs_ensemble\\2010\\\n",
      "2010\n",
      "number of files: 8736\n",
      "inputyr_2digits=False i.e. str(year)\n",
      "added day and month now*\n",
      "D:\\HYSPLIT_runs_ensemble\\2010\\GDAS*2010*\n",
      "Number of HYSPLIT files for 2010: 8704\n",
      "normal year:\n",
      "fraction produced: 0.993607305936073\n",
      "number of datetimes with too little memory: 0\n",
      "year: 2011\n",
      "Year: 2011\n",
      "Path: D:\\HYSPLIT_runs_ensemble\\2011\\\n",
      "2011\n",
      "number of files: 8736\n",
      "inputyr_2digits=False i.e. str(year)\n",
      "added day and month now*\n",
      "D:\\HYSPLIT_runs_ensemble\\2011\\GDAS*2011*\n",
      "Number of HYSPLIT files for 2011: 8704\n",
      "normal year:\n",
      "fraction produced: 0.993607305936073\n",
      "number of datetimes with too little memory: 0\n",
      "year: 2012\n",
      "Year: 2012\n",
      "Path: D:\\HYSPLIT_runs_ensemble\\2012\\\n",
      "2012\n",
      "number of files: 8760\n",
      "inputyr_2digits=False i.e. str(year)\n",
      "added day and month now*\n",
      "D:\\HYSPLIT_runs_ensemble\\2012\\GDAS*2012*\n",
      "Number of HYSPLIT files for 2012: 8740\n",
      "leap year:\n",
      "fraction produced: 0.9949908925318761\n",
      "number of datetimes with too little memory: 0\n",
      "year: 2013\n",
      "Year: 2013\n",
      "Path: D:\\HYSPLIT_runs_ensemble\\2013\\\n",
      "2013\n",
      "number of files: 8736\n",
      "inputyr_2digits=False i.e. str(year)\n",
      "added day and month now*\n",
      "D:\\HYSPLIT_runs_ensemble\\2013\\GDAS*2013*\n",
      "Number of HYSPLIT files for 2013: 8724\n",
      "normal year:\n",
      "fraction produced: 0.9958904109589041\n",
      "number of datetimes with too little memory: 0\n",
      "year: 2014\n",
      "Year: 2014\n",
      "Path: D:\\HYSPLIT_runs_ensemble\\2014\\\n",
      "2014\n",
      "number of files: 8736\n",
      "inputyr_2digits=False i.e. str(year)\n",
      "added day and month now*\n",
      "D:\\HYSPLIT_runs_ensemble\\2014\\GDAS*2014*\n",
      "Number of HYSPLIT files for 2014: 8724\n",
      "normal year:\n",
      "fraction produced: 0.9958904109589041\n",
      "number of datetimes with too little memory: 0\n",
      "year: 2015\n",
      "Year: 2015\n",
      "Path: D:\\HYSPLIT_runs_ensemble\\2015\\\n",
      "2015\n",
      "number of files: 8736\n",
      "inputyr_2digits=False i.e. str(year)\n",
      "added day and month now*\n",
      "D:\\HYSPLIT_runs_ensemble\\2015\\GDAS*2015*\n",
      "Number of HYSPLIT files for 2015: 8724\n",
      "normal year:\n",
      "fraction produced: 0.9958904109589041\n",
      "number of datetimes with too little memory: 0\n",
      "year: 2016\n",
      "Year: 2016\n",
      "Path: D:\\HYSPLIT_runs_ensemble\\2016\\\n",
      "2016\n",
      "number of files: 8784\n",
      "inputyr_2digits=False i.e. str(year)\n",
      "added day and month now*\n",
      "D:\\HYSPLIT_runs_ensemble\\2016\\GDAS*2016*\n",
      "Number of HYSPLIT files for 2016: 8772\n",
      "leap year:\n",
      "fraction produced: 0.9986338797814208\n",
      "number of datetimes with too little memory: 0\n",
      "year: 2017\n",
      "Year: 2017\n",
      "Path: D:\\HYSPLIT_runs_ensemble\\2017\\\n",
      "2017\n",
      "number of files: 8760\n",
      "inputyr_2digits=False i.e. str(year)\n",
      "added day and month now*\n",
      "D:\\HYSPLIT_runs_ensemble\\2017\\GDAS*2017*\n",
      "Number of HYSPLIT files for 2017: 8748\n",
      "normal year:\n",
      "fraction produced: 0.9986301369863013\n",
      "number of datetimes with too little memory: 0\n",
      "year: 2018\n",
      "Year: 2018\n",
      "Path: D:\\HYSPLIT_runs_ensemble\\2018\\\n",
      "2018\n",
      "number of files: 8760\n",
      "inputyr_2digits=False i.e. str(year)\n",
      "added day and month now*\n",
      "D:\\HYSPLIT_runs_ensemble\\2018\\GDAS*2018*\n",
      "Number of HYSPLIT files for 2018: 8748\n",
      "normal year:\n",
      "fraction produced: 0.9986301369863013\n",
      "number of datetimes with too little memory: 0\n",
      "year: 2019\n",
      "Year: 2019\n",
      "Path: D:\\HYSPLIT_runs_ensemble\\2019\\\n",
      "2019\n",
      "number of files: 8760\n",
      "inputyr_2digits=False i.e. str(year)\n",
      "added day and month now*\n",
      "D:\\HYSPLIT_runs_ensemble\\2019\\GDAS*2019*\n",
      "Number of HYSPLIT files for 2019: 8748\n",
      "normal year:\n",
      "fraction produced: 0.9986301369863013\n",
      "number of datetimes with too little memory: 0\n",
      "year: 2020\n",
      "Year: 2020\n",
      "Path: D:\\HYSPLIT_runs_ensemble\\2020\\\n",
      "2020\n",
      "number of files: 8784\n",
      "inputyr_2digits=False i.e. str(year)\n",
      "added day and month now*\n",
      "D:\\HYSPLIT_runs_ensemble\\2020\\GDAS*2020*\n",
      "Number of HYSPLIT files for 2020: 8752\n",
      "leap year:\n",
      "fraction produced: 0.9963570127504554\n",
      "number of datetimes with too little memory: 0\n",
      "year: 2021\n",
      "Year: 2021\n",
      "Path: D:\\HYSPLIT_runs_ensemble\\2021\\\n",
      "2021\n",
      "number of files: 8760\n",
      "inputyr_2digits=False i.e. str(year)\n",
      "added day and month now*\n",
      "D:\\HYSPLIT_runs_ensemble\\2021\\GDAS*2021*\n",
      "Number of HYSPLIT files for 2021: 8728\n",
      "normal year:\n",
      "fraction produced: 0.9963470319634703\n",
      "number of datetimes with too little memory: 0\n",
      "year: 2022\n",
      "Year: 2022\n",
      "Path: D:\\HYSPLIT_runs_ensemble\\2022\\\n",
      "2022\n",
      "number of files: 8736\n",
      "inputyr_2digits=False i.e. str(year)\n",
      "added day and month now*\n",
      "D:\\HYSPLIT_runs_ensemble\\2022\\GDAS*2022*\n",
      "Number of HYSPLIT files for 2022: 8716\n",
      "normal year:\n",
      "fraction produced: 0.9949771689497717\n",
      "number of datetimes with too little memory: 0\n",
      "year: 2023\n",
      "Year: 2023\n",
      "Path: D:\\HYSPLIT_runs_ensemble\\2023\\\n",
      "2023\n",
      "number of files: 7631\n",
      "inputyr_2digits=False i.e. str(year)\n",
      "added day and month now*\n",
      "D:\\HYSPLIT_runs_ensemble\\2023\\GDAS*2023*\n",
      "Number of HYSPLIT files for 2023: 7621\n",
      "normal year:\n",
      "fraction produced: 0.8699771689497717\n",
      "number of datetimes with too little memory: 1\n",
      "more than one\n"
     ]
    }
   ],
   "source": [
    "df_all_missing_memory, dict_year_to_df_memory = generate_df_missing_datetimes_memory(years=list(np.arange(2002, 2024, 1)), \n",
    "                                                                                     inpath=path_HYSPLIT_files,\n",
    "                                                                                     prefix='GDAS')"
   ]
  },
  {
   "cell_type": "code",
   "execution_count": 35,
   "id": "b446dda6",
   "metadata": {
    "ExecuteTime": {
     "end_time": "2023-11-25T16:18:04.156285Z",
     "start_time": "2023-11-25T16:18:04.072546Z"
    }
   },
   "outputs": [
    {
     "data": {
      "text/html": [
       "<div>\n",
       "<style scoped>\n",
       "    .dataframe tbody tr th:only-of-type {\n",
       "        vertical-align: middle;\n",
       "    }\n",
       "\n",
       "    .dataframe tbody tr th {\n",
       "        vertical-align: top;\n",
       "    }\n",
       "\n",
       "    .dataframe thead th {\n",
       "        text-align: right;\n",
       "    }\n",
       "</style>\n",
       "<table border=\"1\" class=\"dataframe\">\n",
       "  <thead>\n",
       "    <tr style=\"text-align: right;\">\n",
       "      <th></th>\n",
       "      <th>year</th>\n",
       "      <th>datetime</th>\n",
       "    </tr>\n",
       "  </thead>\n",
       "  <tbody>\n",
       "    <tr>\n",
       "      <th>29</th>\n",
       "      <td>2005</td>\n",
       "      <td>2005-09-07 16:00:00</td>\n",
       "    </tr>\n",
       "    <tr>\n",
       "      <th>17</th>\n",
       "      <td>2005</td>\n",
       "      <td>2005-09-07 17:00:00</td>\n",
       "    </tr>\n",
       "    <tr>\n",
       "      <th>11</th>\n",
       "      <td>2005</td>\n",
       "      <td>2005-09-07 18:00:00</td>\n",
       "    </tr>\n",
       "    <tr>\n",
       "      <th>66</th>\n",
       "      <td>2005</td>\n",
       "      <td>2005-09-07 19:00:00</td>\n",
       "    </tr>\n",
       "    <tr>\n",
       "      <th>30</th>\n",
       "      <td>2005</td>\n",
       "      <td>2005-09-07 20:00:00</td>\n",
       "    </tr>\n",
       "  </tbody>\n",
       "</table>\n",
       "</div>"
      ],
      "text/plain": [
       "    year            datetime\n",
       "29  2005 2005-09-07 16:00:00\n",
       "17  2005 2005-09-07 17:00:00\n",
       "11  2005 2005-09-07 18:00:00\n",
       "66  2005 2005-09-07 19:00:00\n",
       "30  2005 2005-09-07 20:00:00"
      ]
     },
     "execution_count": 35,
     "metadata": {},
     "output_type": "execute_result"
    }
   ],
   "source": [
    "df_all_missing_memory.head(5)"
   ]
  },
  {
   "cell_type": "code",
   "execution_count": 36,
   "id": "36284db1",
   "metadata": {
    "ExecuteTime": {
     "end_time": "2023-11-25T16:18:04.573112Z",
     "start_time": "2023-11-25T16:18:04.503101Z"
    }
   },
   "outputs": [
    {
     "data": {
      "text/plain": [
       "316"
      ]
     },
     "execution_count": 36,
     "metadata": {},
     "output_type": "execute_result"
    }
   ],
   "source": [
    "len(df_all_missing_memory)"
   ]
  },
  {
   "cell_type": "code",
   "execution_count": 37,
   "id": "d701e7ad",
   "metadata": {
    "ExecuteTime": {
     "end_time": "2023-11-25T16:18:05.062528Z",
     "start_time": "2023-11-25T16:18:04.933009Z"
    }
   },
   "outputs": [
    {
     "name": "stdout",
     "output_type": "stream",
     "text": [
      "[2005 2006 2007 2008 2009 2010 2011 2012 2013 2014 2015 2016 2017 2018\n",
      " 2019 2020 2021 2022 2023]\n",
      "2005\n",
      "    hours_in_month_generated  potential_days  potential_hourly_data_points  \\\n",
      "1                        743              31                           744   \n",
      "2                        671              28                           672   \n",
      "3                        743              31                           744   \n",
      "4                        719              30                           720   \n",
      "5                        743              31                           744   \n",
      "6                        719              30                           720   \n",
      "7                        743              31                           744   \n",
      "8                        743              31                           744   \n",
      "9                        719              30                           720   \n",
      "10                       743              31                           744   \n",
      "11                       719              30                           720   \n",
      "12                       719              31                           744   \n",
      "\n",
      "    fraction  \n",
      "1   0.998656  \n",
      "2   0.998512  \n",
      "3   0.998656  \n",
      "4   0.998611  \n",
      "5   0.998656  \n",
      "6   0.998611  \n",
      "7   0.998656  \n",
      "8   0.998656  \n",
      "9   0.998611  \n",
      "10  0.998656  \n",
      "11  0.998611  \n",
      "12  0.966398  \n",
      "2006\n",
      "    hours_in_month_generated  potential_days  potential_hourly_data_points  \\\n",
      "1                        743              31                           744   \n",
      "2                        671              28                           672   \n",
      "3                        743              31                           744   \n",
      "4                        719              30                           720   \n",
      "5                        743              31                           744   \n",
      "6                        719              30                           720   \n",
      "7                        743              31                           744   \n",
      "8                        744              31                           744   \n",
      "9                        719              30                           720   \n",
      "10                       743              31                           744   \n",
      "11                       719              30                           720   \n",
      "12                       743              31                           744   \n",
      "\n",
      "    fraction  \n",
      "1   0.998656  \n",
      "2   0.998512  \n",
      "3   0.998656  \n",
      "4   0.998611  \n",
      "5   0.998656  \n",
      "6   0.998611  \n",
      "7   0.998656  \n",
      "8   1.000000  \n",
      "9   0.998611  \n",
      "10  0.998656  \n",
      "11  0.998611  \n",
      "12  0.998656  \n",
      "2007\n",
      "    hours_in_month_generated  potential_days  potential_hourly_data_points  \\\n",
      "1                        743              31                           744   \n",
      "2                        671              28                           672   \n",
      "3                        743              31                           744   \n",
      "4                        719              30                           720   \n",
      "5                        743              31                           744   \n",
      "6                        719              30                           720   \n",
      "7                        743              31                           744   \n",
      "8                        743              31                           744   \n",
      "9                        719              30                           720   \n",
      "10                       743              31                           744   \n",
      "11                       719              30                           720   \n",
      "12                       743              31                           744   \n",
      "\n",
      "    fraction  \n",
      "1   0.998656  \n",
      "2   0.998512  \n",
      "3   0.998656  \n",
      "4   0.998611  \n",
      "5   0.998656  \n",
      "6   0.998611  \n",
      "7   0.998656  \n",
      "8   0.998656  \n",
      "9   0.998611  \n",
      "10  0.998656  \n",
      "11  0.998611  \n",
      "12  0.998656  \n",
      "2008\n",
      "    hours_in_month_generated  potential_days  potential_hourly_data_points  \\\n",
      "1                        743              31                           744   \n",
      "2                        695              29                           696   \n",
      "3                        743              31                           744   \n",
      "4                        719              30                           720   \n",
      "5                        743              31                           744   \n",
      "6                        719              30                           720   \n",
      "7                        743              31                           744   \n",
      "8                        743              31                           744   \n",
      "9                        719              30                           720   \n",
      "10                       743              31                           744   \n",
      "11                       719              30                           720   \n",
      "12                       743              31                           744   \n",
      "\n",
      "    fraction  \n",
      "1   0.998656  \n",
      "2   0.998563  \n",
      "3   0.998656  \n",
      "4   0.998611  \n",
      "5   0.998656  \n",
      "6   0.998611  \n",
      "7   0.998656  \n",
      "8   0.998656  \n",
      "9   0.998611  \n",
      "10  0.998656  \n",
      "11  0.998611  \n",
      "12  0.998656  \n",
      "2009\n",
      "    hours_in_month_generated  potential_days  potential_hourly_data_points  \\\n",
      "1                        743              31                           744   \n",
      "2                        671              28                           672   \n",
      "3                        743              31                           744   \n",
      "4                        719              30                           720   \n",
      "5                        743              31                           744   \n",
      "6                        719              30                           720   \n",
      "7                        743              31                           744   \n",
      "8                        743              31                           744   \n",
      "9                        719              30                           720   \n",
      "10                       743              31                           744   \n",
      "11                       719              30                           720   \n",
      "12                       719              31                           744   \n",
      "\n",
      "    fraction  \n",
      "1   0.998656  \n",
      "2   0.998512  \n",
      "3   0.998656  \n",
      "4   0.998611  \n",
      "5   0.998656  \n",
      "6   0.998611  \n",
      "7   0.998656  \n",
      "8   0.998656  \n",
      "9   0.998611  \n",
      "10  0.998656  \n",
      "11  0.998611  \n",
      "12  0.966398  \n",
      "2010\n",
      "    hours_in_month_generated  potential_days  potential_hourly_data_points  \\\n",
      "1                        743              31                           744   \n",
      "2                        661              28                           672   \n",
      "3                        743              31                           744   \n",
      "4                        719              30                           720   \n",
      "5                        743              31                           744   \n",
      "6                        719              30                           720   \n",
      "7                        743              31                           744   \n",
      "8                        743              31                           744   \n",
      "9                        719              30                           720   \n",
      "10                       743              31                           744   \n",
      "11                       719              30                           720   \n",
      "12                       709              31                           744   \n",
      "\n",
      "    fraction  \n",
      "1   0.998656  \n",
      "2   0.983631  \n",
      "3   0.998656  \n",
      "4   0.998611  \n",
      "5   0.998656  \n",
      "6   0.998611  \n",
      "7   0.998656  \n",
      "8   0.998656  \n",
      "9   0.998611  \n",
      "10  0.998656  \n",
      "11  0.998611  \n",
      "12  0.952957  \n",
      "2011\n",
      "    hours_in_month_generated  potential_days  potential_hourly_data_points  \\\n",
      "1                        743              31                           744   \n",
      "2                        661              28                           672   \n",
      "3                        743              31                           744   \n",
      "4                        719              30                           720   \n",
      "5                        743              31                           744   \n",
      "6                        719              30                           720   \n",
      "7                        743              31                           744   \n",
      "8                        743              31                           744   \n",
      "9                        719              30                           720   \n",
      "10                       743              31                           744   \n",
      "11                       719              30                           720   \n",
      "12                       709              31                           744   \n",
      "\n",
      "    fraction  \n",
      "1   0.998656  \n",
      "2   0.983631  \n",
      "3   0.998656  \n",
      "4   0.998611  \n",
      "5   0.998656  \n",
      "6   0.998611  \n",
      "7   0.998656  \n",
      "8   0.998656  \n",
      "9   0.998611  \n",
      "10  0.998656  \n",
      "11  0.998611  \n",
      "12  0.952957  \n",
      "2012\n",
      "    hours_in_month_generated  potential_days  potential_hourly_data_points  \\\n",
      "1                        743              31                           744   \n",
      "2                        691              29                           696   \n",
      "3                        743              31                           744   \n",
      "4                        719              30                           720   \n",
      "5                        743              31                           744   \n",
      "6                        719              30                           720   \n",
      "7                        743              31                           744   \n",
      "8                        743              31                           744   \n",
      "9                        719              30                           720   \n",
      "10                       743              31                           744   \n",
      "11                       719              30                           720   \n",
      "12                       715              31                           744   \n",
      "\n",
      "    fraction  \n",
      "1   0.998656  \n",
      "2   0.992816  \n",
      "3   0.998656  \n",
      "4   0.998611  \n",
      "5   0.998656  \n",
      "6   0.998611  \n",
      "7   0.998656  \n",
      "8   0.998656  \n",
      "9   0.998611  \n",
      "10  0.998656  \n",
      "11  0.998611  \n",
      "12  0.961022  \n",
      "2013\n",
      "    hours_in_month_generated  potential_days  potential_hourly_data_points  \\\n",
      "1                        743              31                           744   \n",
      "2                        671              28                           672   \n",
      "3                        743              31                           744   \n",
      "4                        719              30                           720   \n",
      "5                        743              31                           744   \n",
      "6                        719              30                           720   \n",
      "7                        743              31                           744   \n",
      "8                        743              31                           744   \n",
      "9                        719              30                           720   \n",
      "10                       743              31                           744   \n",
      "11                       719              30                           720   \n",
      "12                       719              31                           744   \n",
      "\n",
      "    fraction  \n",
      "1   0.998656  \n",
      "2   0.998512  \n",
      "3   0.998656  \n",
      "4   0.998611  \n",
      "5   0.998656  \n",
      "6   0.998611  \n",
      "7   0.998656  \n",
      "8   0.998656  \n",
      "9   0.998611  \n",
      "10  0.998656  \n",
      "11  0.998611  \n",
      "12  0.966398  \n",
      "2014\n",
      "    hours_in_month_generated  potential_days  potential_hourly_data_points  \\\n",
      "1                        743              31                           744   \n",
      "2                        671              28                           672   \n",
      "3                        743              31                           744   \n",
      "4                        719              30                           720   \n",
      "5                        743              31                           744   \n",
      "6                        719              30                           720   \n",
      "7                        743              31                           744   \n",
      "8                        743              31                           744   \n",
      "9                        719              30                           720   \n",
      "10                       743              31                           744   \n",
      "11                       719              30                           720   \n",
      "12                       719              31                           744   \n",
      "\n",
      "    fraction  \n",
      "1   0.998656  \n",
      "2   0.998512  \n",
      "3   0.998656  \n",
      "4   0.998611  \n",
      "5   0.998656  \n",
      "6   0.998611  \n",
      "7   0.998656  \n",
      "8   0.998656  \n",
      "9   0.998611  \n",
      "10  0.998656  \n",
      "11  0.998611  \n",
      "12  0.966398  \n",
      "2015\n",
      "    hours_in_month_generated  potential_days  potential_hourly_data_points  \\\n",
      "1                        743              31                           744   \n",
      "2                        671              28                           672   \n",
      "3                        743              31                           744   \n",
      "4                        719              30                           720   \n",
      "5                        743              31                           744   \n",
      "6                        719              30                           720   \n",
      "7                        743              31                           744   \n",
      "8                        743              31                           744   \n",
      "9                        719              30                           720   \n",
      "10                       743              31                           744   \n",
      "11                       719              30                           720   \n",
      "12                       719              31                           744   \n",
      "\n",
      "    fraction  \n",
      "1   0.998656  \n",
      "2   0.998512  \n",
      "3   0.998656  \n",
      "4   0.998611  \n",
      "5   0.998656  \n",
      "6   0.998611  \n",
      "7   0.998656  \n",
      "8   0.998656  \n",
      "9   0.998611  \n",
      "10  0.998656  \n",
      "11  0.998611  \n",
      "12  0.966398  \n",
      "2016\n",
      "    hours_in_month_generated  potential_days  potential_hourly_data_points  \\\n",
      "1                        743              31                           744   \n",
      "2                        695              29                           696   \n",
      "3                        743              31                           744   \n",
      "4                        719              30                           720   \n",
      "5                        743              31                           744   \n",
      "6                        719              30                           720   \n",
      "7                        743              31                           744   \n",
      "8                        743              31                           744   \n",
      "9                        719              30                           720   \n",
      "10                       743              31                           744   \n",
      "11                       719              30                           720   \n",
      "12                       743              31                           744   \n",
      "\n",
      "    fraction  \n",
      "1   0.998656  \n",
      "2   0.998563  \n",
      "3   0.998656  \n",
      "4   0.998611  \n",
      "5   0.998656  \n",
      "6   0.998611  \n",
      "7   0.998656  \n",
      "8   0.998656  \n",
      "9   0.998611  \n",
      "10  0.998656  \n",
      "11  0.998611  \n",
      "12  0.998656  \n",
      "2017\n",
      "    hours_in_month_generated  potential_days  potential_hourly_data_points  \\\n",
      "1                        743              31                           744   \n",
      "2                        671              28                           672   \n",
      "3                        743              31                           744   \n",
      "4                        719              30                           720   \n",
      "5                        743              31                           744   \n",
      "6                        719              30                           720   \n",
      "7                        743              31                           744   \n",
      "8                        743              31                           744   \n",
      "9                        719              30                           720   \n",
      "10                       743              31                           744   \n",
      "11                       719              30                           720   \n",
      "12                       743              31                           744   \n",
      "\n",
      "    fraction  \n",
      "1   0.998656  \n",
      "2   0.998512  \n",
      "3   0.998656  \n",
      "4   0.998611  \n",
      "5   0.998656  \n",
      "6   0.998611  \n",
      "7   0.998656  \n",
      "8   0.998656  \n",
      "9   0.998611  \n",
      "10  0.998656  \n",
      "11  0.998611  \n",
      "12  0.998656  \n",
      "2018\n",
      "    hours_in_month_generated  potential_days  potential_hourly_data_points  \\\n",
      "1                        743              31                           744   \n",
      "2                        671              28                           672   \n",
      "3                        743              31                           744   \n",
      "4                        719              30                           720   \n",
      "5                        743              31                           744   \n",
      "6                        719              30                           720   \n",
      "7                        743              31                           744   \n",
      "8                        743              31                           744   \n",
      "9                        719              30                           720   \n",
      "10                       743              31                           744   \n",
      "11                       719              30                           720   \n",
      "12                       743              31                           744   \n",
      "\n",
      "    fraction  \n",
      "1   0.998656  \n",
      "2   0.998512  \n",
      "3   0.998656  \n",
      "4   0.998611  \n",
      "5   0.998656  \n",
      "6   0.998611  \n",
      "7   0.998656  \n",
      "8   0.998656  \n",
      "9   0.998611  \n",
      "10  0.998656  \n",
      "11  0.998611  \n",
      "12  0.998656  \n",
      "2019\n",
      "    hours_in_month_generated  potential_days  potential_hourly_data_points  \\\n",
      "1                        743              31                           744   \n",
      "2                        671              28                           672   \n",
      "3                        743              31                           744   \n",
      "4                        719              30                           720   \n",
      "5                        743              31                           744   \n",
      "6                        719              30                           720   \n",
      "7                        743              31                           744   \n",
      "8                        743              31                           744   \n",
      "9                        719              30                           720   \n",
      "10                       743              31                           744   \n",
      "11                       719              30                           720   \n",
      "12                       743              31                           744   \n",
      "\n",
      "    fraction  \n",
      "1   0.998656  \n",
      "2   0.998512  \n",
      "3   0.998656  \n",
      "4   0.998611  \n",
      "5   0.998656  \n",
      "6   0.998611  \n",
      "7   0.998656  \n",
      "8   0.998656  \n",
      "9   0.998611  \n",
      "10  0.998656  \n",
      "11  0.998611  \n",
      "12  0.998656  \n",
      "2020\n",
      "    hours_in_month_generated  potential_days  potential_hourly_data_points  \\\n",
      "1                        743              31                           744   \n",
      "2                        685              29                           696   \n",
      "3                        743              31                           744   \n",
      "4                        719              30                           720   \n",
      "5                        743              31                           744   \n",
      "6                        719              30                           720   \n",
      "7                        743              31                           744   \n",
      "8                        743              31                           744   \n",
      "9                        719              30                           720   \n",
      "10                       743              31                           744   \n",
      "11                       719              30                           720   \n",
      "12                       733              31                           744   \n",
      "\n",
      "    fraction  \n",
      "1   0.998656  \n",
      "2   0.984195  \n",
      "3   0.998656  \n",
      "4   0.998611  \n",
      "5   0.998656  \n",
      "6   0.998611  \n",
      "7   0.998656  \n",
      "8   0.998656  \n",
      "9   0.998611  \n",
      "10  0.998656  \n",
      "11  0.998611  \n",
      "12  0.985215  \n",
      "2021\n",
      "    hours_in_month_generated  potential_days  potential_hourly_data_points  \\\n",
      "1                        743              31                           744   \n",
      "2                        661              28                           672   \n",
      "3                        743              31                           744   \n",
      "4                        719              30                           720   \n",
      "5                        743              31                           744   \n",
      "6                        719              30                           720   \n",
      "7                        743              31                           744   \n",
      "8                        743              31                           744   \n",
      "9                        719              30                           720   \n",
      "10                       743              31                           744   \n",
      "11                       719              30                           720   \n",
      "12                       733              31                           744   \n",
      "\n",
      "    fraction  \n",
      "1   0.998656  \n",
      "2   0.983631  \n",
      "3   0.998656  \n",
      "4   0.998611  \n",
      "5   0.998656  \n",
      "6   0.998611  \n",
      "7   0.998656  \n",
      "8   0.998656  \n",
      "9   0.998611  \n",
      "10  0.998656  \n",
      "11  0.998611  \n",
      "12  0.985215  \n",
      "2022\n",
      "    hours_in_month_generated  potential_days  potential_hourly_data_points  \\\n",
      "1                        743              31                           744   \n",
      "2                        667              28                           672   \n",
      "3                        743              31                           744   \n",
      "4                        719              30                           720   \n",
      "5                        743              31                           744   \n",
      "6                        719              30                           720   \n",
      "7                        743              31                           744   \n",
      "8                        743              31                           744   \n",
      "9                        719              30                           720   \n",
      "10                       743              31                           744   \n",
      "11                       719              30                           720   \n",
      "12                       715              31                           744   \n",
      "\n",
      "    fraction  \n",
      "1   0.998656  \n",
      "2   0.992560  \n",
      "3   0.998656  \n",
      "4   0.998611  \n",
      "5   0.998656  \n",
      "6   0.998611  \n",
      "7   0.998656  \n",
      "8   0.998656  \n",
      "9   0.998611  \n",
      "10  0.998656  \n",
      "11  0.998611  \n",
      "12  0.961022  \n",
      "2023\n",
      "    hours_in_month_generated  potential_days  potential_hourly_data_points  \\\n",
      "1                      743.0              31                           744   \n",
      "2                      671.0              28                           672   \n",
      "3                      743.0              31                           744   \n",
      "4                      719.0              30                           720   \n",
      "5                      743.0              31                           744   \n",
      "6                      719.0              30                           720   \n",
      "7                      743.0              31                           744   \n",
      "8                      743.0              31                           744   \n",
      "9                      719.0              30                           720   \n",
      "10                     743.0              31                           744   \n",
      "11                     335.0              30                           720   \n",
      "12                       NaN              31                           744   \n",
      "\n",
      "    fraction  \n",
      "1   0.998656  \n",
      "2   0.998512  \n",
      "3   0.998656  \n",
      "4   0.998611  \n",
      "5   0.998656  \n",
      "6   0.998611  \n",
      "7   0.998656  \n",
      "8   0.998656  \n",
      "9   0.998611  \n",
      "10  0.998656  \n",
      "11  0.465278  \n",
      "12       NaN  \n"
     ]
    }
   ],
   "source": [
    "years = df_all_missing.year.unique()\n",
    "print(years)\n",
    "for year in years:\n",
    "    print(year)\n",
    "    print(dict_year_to_df[year])"
   ]
  },
  {
   "cell_type": "markdown",
   "id": "4d15322b",
   "metadata": {},
   "source": [
    "# Running: "
   ]
  },
  {
   "cell_type": "code",
   "execution_count": 38,
   "id": "fc35a9b8",
   "metadata": {
    "ExecuteTime": {
     "end_time": "2023-11-25T16:18:07.175593Z",
     "start_time": "2023-11-25T16:18:05.389715Z"
    }
   },
   "outputs": [],
   "source": [
    "import os\n",
    "os.environ[\"PROJ_LIB\"] = \"C:\\\\Utilities\\\\Python\\\\Anaconda\\\\Library\\\\share\"; #fixr\n",
    "import pysplit"
   ]
  },
  {
   "cell_type": "code",
   "execution_count": 39,
   "id": "aa47256d",
   "metadata": {
    "ExecuteTime": {
     "end_time": "2023-11-25T16:18:07.632517Z",
     "start_time": "2023-11-25T16:18:07.522044Z"
    }
   },
   "outputs": [],
   "source": [
    "def add_front_0(number):\n",
    "    #print(f'{number:02d}')\n",
    "    #f\"{number:0>2}\"\n",
    "    return f'{number:02d}'"
   ]
  },
  {
   "cell_type": "code",
   "execution_count": 40,
   "id": "27f4fa9f",
   "metadata": {
    "ExecuteTime": {
     "end_time": "2023-11-25T16:18:08.082508Z",
     "start_time": "2023-11-25T16:18:07.966041Z"
    }
   },
   "outputs": [],
   "source": [
    "def generate_based_on_df(df_all_missing, meteo_dir = r'D:/GDAS_met_files', storage_dir=r'D:/HYSPLIT_runs_ensemble/'):\n",
    "    altitude = 250\n",
    "    location = (78.906, 11.888) \n",
    "    runtime = -240\n",
    "    altitudes = [250]\n",
    "\n",
    "    basename = 'GDAS1'\n",
    "    working_dir = r'C:/hysplit/working/'\n",
    "    hysplit=\"C:/hysplit/exec/hyts_ens\" #ensemble\n",
    "\n",
    "    df_all_missing['month'] = df_all_missing.datetime.dt.month \n",
    "    df_all_missing['day'] = df_all_missing.datetime.dt.day \n",
    "    df_all_missing['hour'] = df_all_missing.datetime.dt.hour\n",
    "\n",
    "    for i in tqdm(range(len(df_all_missing))):\n",
    "        year = df_all_missing.loc[i, 'year']\n",
    "        month = df_all_missing.loc[i, 'month']\n",
    "        day = int(df_all_missing.loc[i, 'day'])\n",
    "        hour = df_all_missing.loc[i, 'hour']\n",
    "\n",
    "        years = [year] #missing 1,6-12 do for 2 to see if same    \n",
    "        months = [month] #looped for the 11, so will no \n",
    "        hours = [hour] #fixed\n",
    "\n",
    "        datetime = pd.to_datetime(str(years[0])+str(add_front_0(int(months[0])))+str(add_front_0(int(day)))+str(add_front_0(int(hours[0]))),\n",
    "                                  format='%Y%m%d%H')\n",
    "        print(\"Datetime to process:\")\n",
    "        print(datetime)       \n",
    "\n",
    "        storage_dir_year = str(storage_dir)+str(year) \n",
    "\n",
    "        pysplit.generate_bulktraj(basename, working_dir, storage_dir_year, meteo_dir, years,\n",
    "                          months, hours, altitudes, location, runtime,\n",
    "                          meteoyr_2digits=True, outputyr_2digits=False,\n",
    "                          monthslice=slice(day-1, day, 1), meteo_bookends=([4, 5], [1]),\n",
    "                          get_reverse=False, get_clipped=False,\n",
    "                          hysplit=hysplit)"
   ]
  },
  {
   "cell_type": "code",
   "execution_count": 41,
   "id": "f32e05b9",
   "metadata": {
    "ExecuteTime": {
     "end_time": "2023-11-25T16:19:46.249643Z",
     "start_time": "2023-11-25T16:18:08.447818Z"
    }
   },
   "outputs": [
    {
     "name": "stderr",
     "output_type": "stream",
     "text": [
      "\r",
      "  0%|                                                                                          | 0/316 [00:00<?, ?it/s]"
     ]
    },
    {
     "name": "stdout",
     "output_type": "stream",
     "text": [
      "Datetime to process:\n",
      "2005-09-19 23:00:00\n"
     ]
    },
    {
     "name": "stderr",
     "output_type": "stream",
     "text": [
      "  1%|▊                                                                                 | 3/316 [00:03<04:42,  1.11it/s]"
     ]
    },
    {
     "name": "stdout",
     "output_type": "stream",
     "text": [
      "Datetime to process:\n",
      "2005-09-20 11:00:00\n",
      "Datetime to process:\n",
      "2005-09-20 04:00:00\n"
     ]
    },
    {
     "name": "stderr",
     "output_type": "stream",
     "text": [
      "\r",
      "  1%|█                                                                                 | 4/316 [00:03<03:03,  1.70it/s]"
     ]
    },
    {
     "name": "stdout",
     "output_type": "stream",
     "text": [
      "Datetime to process:\n",
      "2005-09-20 13:00:00\n",
      "Datetime to process:\n",
      "2005-09-19 12:00:00\n",
      "Datetime to process:\n",
      "2005-09-08 00:00:00\n"
     ]
    },
    {
     "name": "stderr",
     "output_type": "stream",
     "text": [
      "  3%|██                                                                                | 8/316 [00:04<01:07,  4.58it/s]"
     ]
    },
    {
     "name": "stdout",
     "output_type": "stream",
     "text": [
      "Datetime to process:\n",
      "2005-09-19 19:00:00\n",
      "Datetime to process:\n",
      "2005-09-07 23:00:00\n",
      "Datetime to process:\n",
      "2005-09-20 21:00:00\n"
     ]
    },
    {
     "name": "stderr",
     "output_type": "stream",
     "text": [
      "\r",
      "  3%|██▌                                                                              | 10/316 [00:04<00:50,  6.00it/s]"
     ]
    },
    {
     "name": "stdout",
     "output_type": "stream",
     "text": [
      "Datetime to process:\n",
      "2005-09-19 18:00:00\n",
      "Datetime to process:\n",
      "2005-09-21 23:00:00\n",
      "Datetime to process:\n",
      "2005-09-07 18:00:00\n"
     ]
    },
    {
     "name": "stderr",
     "output_type": "stream",
     "text": [
      "  4%|███▌                                                                             | 14/316 [00:04<00:41,  7.30it/s]"
     ]
    },
    {
     "name": "stdout",
     "output_type": "stream",
     "text": [
      "Datetime to process:\n",
      "2005-09-07 21:00:00\n",
      "Datetime to process:\n",
      "2005-09-19 20:00:00\n",
      "Datetime to process:\n",
      "2005-09-20 16:00:00\n"
     ]
    },
    {
     "name": "stderr",
     "output_type": "stream",
     "text": [
      "\r",
      "  5%|████                                                                             | 16/316 [00:05<00:35,  8.55it/s]"
     ]
    },
    {
     "name": "stdout",
     "output_type": "stream",
     "text": [
      "Datetime to process:\n",
      "2005-09-21 02:00:00\n",
      "Datetime to process:\n",
      "2005-09-20 10:00:00\n",
      "Datetime to process:\n",
      "2005-09-07 17:00:00\n"
     ]
    },
    {
     "name": "stderr",
     "output_type": "stream",
     "text": [
      "  6%|█████▏                                                                           | 20/316 [00:05<00:28, 10.43it/s]"
     ]
    },
    {
     "name": "stdout",
     "output_type": "stream",
     "text": [
      "Datetime to process:\n",
      "2005-09-19 17:00:00\n",
      "Datetime to process:\n",
      "2005-09-21 08:00:00\n",
      "Datetime to process:\n",
      "2005-09-19 04:00:00\n"
     ]
    },
    {
     "name": "stderr",
     "output_type": "stream",
     "text": [
      "\r",
      "  7%|█████▋                                                                           | 22/316 [00:05<00:26, 11.18it/s]"
     ]
    },
    {
     "name": "stdout",
     "output_type": "stream",
     "text": [
      "Datetime to process:\n",
      "2005-09-21 09:00:00\n",
      "Datetime to process:\n",
      "2005-09-20 15:00:00\n",
      "Datetime to process:\n",
      "2005-09-19 01:00:00\n"
     ]
    },
    {
     "name": "stderr",
     "output_type": "stream",
     "text": [
      "  8%|██████▋                                                                          | 26/316 [00:05<00:24, 11.90it/s]"
     ]
    },
    {
     "name": "stdout",
     "output_type": "stream",
     "text": [
      "Datetime to process:\n",
      "2005-09-21 12:00:00\n",
      "Datetime to process:\n",
      "2005-09-20 20:00:00\n",
      "Datetime to process:\n",
      "2005-09-19 22:00:00\n"
     ]
    },
    {
     "name": "stderr",
     "output_type": "stream",
     "text": [
      "\r",
      "  9%|███████▏                                                                         | 28/316 [00:06<00:26, 10.93it/s]"
     ]
    },
    {
     "name": "stdout",
     "output_type": "stream",
     "text": [
      "Datetime to process:\n",
      "2005-09-19 15:00:00\n",
      "Datetime to process:\n",
      "2005-09-21 06:00:00\n"
     ]
    },
    {
     "name": "stderr",
     "output_type": "stream",
     "text": [
      "\r",
      "  9%|███████▋                                                                         | 30/316 [00:06<00:25, 11.05it/s]"
     ]
    },
    {
     "name": "stdout",
     "output_type": "stream",
     "text": [
      "Datetime to process:\n",
      "2005-09-07 16:00:00\n",
      "Datetime to process:\n",
      "2005-09-07 20:00:00\n",
      "Datetime to process:\n",
      "2005-09-19 09:00:00\n"
     ]
    },
    {
     "name": "stderr",
     "output_type": "stream",
     "text": [
      "\r",
      " 10%|████████▏                                                                        | 32/316 [00:06<00:24, 11.65it/s]"
     ]
    },
    {
     "name": "stdout",
     "output_type": "stream",
     "text": [
      "Datetime to process:\n",
      "2005-09-18 17:00:00\n"
     ]
    },
    {
     "name": "stderr",
     "output_type": "stream",
     "text": [
      "\r",
      " 11%|████████▋                                                                        | 34/316 [00:06<00:37,  7.48it/s]"
     ]
    },
    {
     "name": "stdout",
     "output_type": "stream",
     "text": [
      "Datetime to process:\n",
      "2005-09-20 22:00:00\n",
      "Datetime to process:\n",
      "2005-09-20 01:00:00\n",
      "Datetime to process:\n",
      "2005-09-18 16:00:00\n"
     ]
    },
    {
     "name": "stderr",
     "output_type": "stream",
     "text": [
      " 12%|█████████▋                                                                       | 38/316 [00:07<00:29,  9.41it/s]"
     ]
    },
    {
     "name": "stdout",
     "output_type": "stream",
     "text": [
      "Datetime to process:\n",
      "2005-09-18 22:00:00\n",
      "Datetime to process:\n",
      "2005-09-18 23:00:00\n",
      "Datetime to process:\n",
      "2005-09-21 21:00:00\n"
     ]
    },
    {
     "name": "stderr",
     "output_type": "stream",
     "text": [
      "\r",
      " 13%|██████████▎                                                                      | 40/316 [00:07<00:26, 10.48it/s]"
     ]
    },
    {
     "name": "stdout",
     "output_type": "stream",
     "text": [
      "Datetime to process:\n",
      "2005-09-21 14:00:00\n",
      "Datetime to process:\n",
      "2005-09-20 08:00:00\n",
      "Datetime to process:\n",
      "2005-09-21 00:00:00\n"
     ]
    },
    {
     "name": "stderr",
     "output_type": "stream",
     "text": [
      " 14%|███████████▎                                                                     | 44/316 [00:07<00:24, 11.26it/s]"
     ]
    },
    {
     "name": "stdout",
     "output_type": "stream",
     "text": [
      "Datetime to process:\n",
      "2005-09-20 14:00:00\n",
      "Datetime to process:\n",
      "2005-09-20 17:00:00\n",
      "Datetime to process:\n",
      "2005-09-21 10:00:00\n"
     ]
    },
    {
     "name": "stderr",
     "output_type": "stream",
     "text": [
      "\r",
      " 15%|███████████▊                                                                     | 46/316 [00:07<00:23, 11.73it/s]"
     ]
    },
    {
     "name": "stdout",
     "output_type": "stream",
     "text": [
      "Datetime to process:\n",
      "2005-09-20 19:00:00\n",
      "Datetime to process:\n",
      "2005-09-21 07:00:00\n",
      "Datetime to process:\n",
      "2005-09-21 16:00:00\n"
     ]
    },
    {
     "name": "stderr",
     "output_type": "stream",
     "text": [
      " 16%|████████████▊                                                                    | 50/316 [00:08<00:22, 11.86it/s]"
     ]
    },
    {
     "name": "stdout",
     "output_type": "stream",
     "text": [
      "Datetime to process:\n",
      "2005-09-19 13:00:00\n",
      "Datetime to process:\n",
      "2005-09-18 20:00:00\n",
      "Datetime to process:\n",
      "2005-09-21 04:00:00\n"
     ]
    },
    {
     "name": "stderr",
     "output_type": "stream",
     "text": [
      "\r",
      " 16%|█████████████▎                                                                   | 52/316 [00:08<00:22, 11.53it/s]"
     ]
    },
    {
     "name": "stdout",
     "output_type": "stream",
     "text": [
      "Datetime to process:\n",
      "2005-09-19 14:00:00\n",
      "Datetime to process:\n",
      "2005-09-21 18:00:00\n",
      "Datetime to process:\n",
      "2005-09-21 05:00:00\n"
     ]
    },
    {
     "name": "stderr",
     "output_type": "stream",
     "text": [
      " 18%|██████████████▎                                                                  | 56/316 [00:08<00:22, 11.42it/s]"
     ]
    },
    {
     "name": "stdout",
     "output_type": "stream",
     "text": [
      "Datetime to process:\n",
      "2005-09-19 02:00:00\n",
      "Datetime to process:\n",
      "2005-09-19 05:00:00\n"
     ]
    },
    {
     "name": "stderr",
     "output_type": "stream",
     "text": [
      "\r",
      " 18%|██████████████▊                                                                  | 58/316 [00:08<00:22, 11.39it/s]"
     ]
    },
    {
     "name": "stdout",
     "output_type": "stream",
     "text": [
      "Datetime to process:\n",
      "2005-09-21 17:00:00\n",
      "Datetime to process:\n",
      "2005-09-20 07:00:00\n",
      "Datetime to process:\n",
      "2005-09-20 00:00:00\n"
     ]
    },
    {
     "name": "stderr",
     "output_type": "stream",
     "text": [
      "\r",
      " 19%|███████████████▍                                                                 | 60/316 [00:09<00:22, 11.47it/s]"
     ]
    },
    {
     "name": "stdout",
     "output_type": "stream",
     "text": [
      "Datetime to process:\n",
      "2005-09-20 12:00:00\n",
      "Datetime to process:\n",
      "2005-09-20 03:00:00\n",
      "Datetime to process:\n",
      "2005-09-20 18:00:00\n"
     ]
    },
    {
     "name": "stderr",
     "output_type": "stream",
     "text": [
      " 20%|████████████████▍                                                                | 64/316 [00:09<00:22, 11.23it/s]"
     ]
    },
    {
     "name": "stdout",
     "output_type": "stream",
     "text": [
      "Datetime to process:\n",
      "2005-09-20 09:00:00\n",
      "Datetime to process:\n",
      "2005-09-22 00:00:00\n"
     ]
    },
    {
     "name": "stderr",
     "output_type": "stream",
     "text": [
      "\r",
      " 21%|████████████████▉                                                                | 66/316 [00:09<00:22, 11.34it/s]"
     ]
    },
    {
     "name": "stdout",
     "output_type": "stream",
     "text": [
      "Datetime to process:\n",
      "2005-09-18 21:00:00\n",
      "Datetime to process:\n",
      "2005-09-21 13:00:00\n",
      "Datetime to process:\n",
      "2005-09-07 19:00:00\n"
     ]
    },
    {
     "name": "stderr",
     "output_type": "stream",
     "text": [
      "\r",
      " 22%|█████████████████▍                                                               | 68/316 [00:09<00:21, 11.54it/s]"
     ]
    },
    {
     "name": "stdout",
     "output_type": "stream",
     "text": [
      "Datetime to process:\n",
      "2005-09-21 01:00:00\n",
      "Datetime to process:\n",
      "2005-09-21 20:00:00\n",
      "Datetime to process:\n",
      "2005-09-19 10:00:00\n"
     ]
    },
    {
     "name": "stderr",
     "output_type": "stream",
     "text": [
      " 23%|██████████████████▍                                                              | 72/316 [00:10<00:21, 11.58it/s]"
     ]
    },
    {
     "name": "stdout",
     "output_type": "stream",
     "text": [
      "Datetime to process:\n",
      "2005-09-20 23:00:00\n",
      "Datetime to process:\n",
      "2005-09-21 22:00:00\n",
      "Datetime to process:\n",
      "2005-09-19 03:00:00\n"
     ]
    },
    {
     "name": "stderr",
     "output_type": "stream",
     "text": [
      "\r",
      " 23%|██████████████████▉                                                              | 74/316 [00:10<00:20, 11.68it/s]"
     ]
    },
    {
     "name": "stdout",
     "output_type": "stream",
     "text": [
      "Datetime to process:\n",
      "2005-09-21 03:00:00\n",
      "Datetime to process:\n",
      "2005-09-21 11:00:00\n",
      "Datetime to process:\n",
      "2005-09-19 00:00:00\n"
     ]
    },
    {
     "name": "stderr",
     "output_type": "stream",
     "text": [
      " 25%|███████████████████▉                                                             | 78/316 [00:10<00:20, 11.49it/s]"
     ]
    },
    {
     "name": "stdout",
     "output_type": "stream",
     "text": [
      "Datetime to process:\n",
      "2005-09-19 07:00:00\n",
      "Datetime to process:\n",
      "2005-09-19 08:00:00\n",
      "Datetime to process:\n",
      "2005-09-20 02:00:00\n"
     ]
    },
    {
     "name": "stderr",
     "output_type": "stream",
     "text": [
      "\r",
      " 25%|████████████████████▌                                                            | 80/316 [00:10<00:20, 11.32it/s]"
     ]
    },
    {
     "name": "stdout",
     "output_type": "stream",
     "text": [
      "Datetime to process:\n",
      "2005-09-18 18:00:00\n",
      "Datetime to process:\n",
      "2005-09-19 21:00:00\n",
      "Datetime to process:\n",
      "2005-09-21 19:00:00\n"
     ]
    },
    {
     "name": "stderr",
     "output_type": "stream",
     "text": [
      " 27%|█████████████████████▌                                                           | 84/316 [00:11<00:21, 10.60it/s]"
     ]
    },
    {
     "name": "stdout",
     "output_type": "stream",
     "text": [
      "Datetime to process:\n",
      "2005-09-18 19:00:00\n",
      "Datetime to process:\n",
      "2005-09-19 06:00:00\n"
     ]
    },
    {
     "name": "stderr",
     "output_type": "stream",
     "text": [
      "\r",
      " 27%|██████████████████████                                                           | 86/316 [00:11<00:20, 11.12it/s]"
     ]
    },
    {
     "name": "stdout",
     "output_type": "stream",
     "text": [
      "Datetime to process:\n",
      "2005-09-19 16:00:00\n",
      "Datetime to process:\n",
      "2005-09-19 11:00:00\n",
      "Datetime to process:\n",
      "2005-09-07 22:00:00\n"
     ]
    },
    {
     "name": "stderr",
     "output_type": "stream",
     "text": [
      "\r",
      " 28%|██████████████████████▌                                                          | 88/316 [00:11<00:20, 10.89it/s]"
     ]
    },
    {
     "name": "stdout",
     "output_type": "stream",
     "text": [
      "Datetime to process:\n",
      "2005-09-20 06:00:00\n",
      "Datetime to process:\n",
      "2005-09-21 15:00:00\n",
      "Datetime to process:\n",
      "2006-08-04 10:00:00\n"
     ]
    },
    {
     "name": "stderr",
     "output_type": "stream",
     "text": [
      " 28%|███████████████████████                                                          | 90/316 [01:13<35:13,  9.35s/it]"
     ]
    },
    {
     "name": "stdout",
     "output_type": "stream",
     "text": [
      "Datetime to process:\n",
      "2008-05-04 07:00:00\n"
     ]
    },
    {
     "name": "stderr",
     "output_type": "stream",
     "text": [
      " 29%|███████████████████████▊                                                         | 93/316 [01:16<20:28,  5.51s/it]"
     ]
    },
    {
     "name": "stdout",
     "output_type": "stream",
     "text": [
      "Datetime to process:\n",
      "2008-05-04 08:00:00\n",
      "Datetime to process:\n",
      "2008-05-04 09:00:00\n",
      "Datetime to process:\n",
      "2008-05-04 10:00:00\n"
     ]
    },
    {
     "name": "stderr",
     "output_type": "stream",
     "text": [
      "\r",
      " 30%|████████████████████████▎                                                        | 95/316 [01:16<13:48,  3.75s/it]"
     ]
    },
    {
     "name": "stdout",
     "output_type": "stream",
     "text": [
      "Datetime to process:\n",
      "2008-05-04 11:00:00\n",
      "Datetime to process:\n",
      "2008-05-04 12:00:00\n",
      "Datetime to process:\n",
      "2008-05-04 13:00:00\n"
     ]
    },
    {
     "name": "stderr",
     "output_type": "stream",
     "text": [
      " 31%|█████████████████████████▍                                                       | 99/316 [01:17<06:31,  1.80s/it]"
     ]
    },
    {
     "name": "stdout",
     "output_type": "stream",
     "text": [
      "Datetime to process:\n",
      "2008-05-04 14:00:00\n",
      "Datetime to process:\n",
      "2008-05-04 15:00:00\n",
      "Datetime to process:\n",
      "2008-05-04 16:00:00\n"
     ]
    },
    {
     "name": "stderr",
     "output_type": "stream",
     "text": [
      "\r",
      " 32%|█████████████████████████▌                                                      | 101/316 [01:17<04:33,  1.27s/it]"
     ]
    },
    {
     "name": "stdout",
     "output_type": "stream",
     "text": [
      "Datetime to process:\n",
      "2008-05-04 17:00:00\n",
      "Datetime to process:\n",
      "2008-05-04 18:00:00\n",
      "Datetime to process:\n",
      "2008-05-04 19:00:00\n"
     ]
    },
    {
     "name": "stderr",
     "output_type": "stream",
     "text": [
      "\r",
      " 33%|██████████████████████████                                                      | 103/316 [01:17<03:12,  1.10it/s]"
     ]
    },
    {
     "name": "stdout",
     "output_type": "stream",
     "text": [
      "Datetime to process:\n",
      "2008-05-04 20:00:00\n",
      "Datetime to process:\n",
      "2008-05-04 21:00:00\n"
     ]
    },
    {
     "name": "stderr",
     "output_type": "stream",
     "text": [
      " 34%|███████████████████████████                                                     | 107/316 [01:17<01:43,  2.03it/s]"
     ]
    },
    {
     "name": "stdout",
     "output_type": "stream",
     "text": [
      "Datetime to process:\n",
      "2008-05-04 22:00:00\n",
      "Datetime to process:\n",
      "2008-05-04 23:00:00\n"
     ]
    },
    {
     "name": "stderr",
     "output_type": "stream",
     "text": [
      "\r",
      " 34%|███████████████████████████▌                                                    | 109/316 [01:18<01:16,  2.72it/s]"
     ]
    },
    {
     "name": "stdout",
     "output_type": "stream",
     "text": [
      "Datetime to process:\n",
      "2008-05-05 00:00:00\n",
      "Datetime to process:\n",
      "2008-05-05 01:00:00\n",
      "Datetime to process:\n",
      "2008-05-05 02:00:00\n"
     ]
    },
    {
     "name": "stderr",
     "output_type": "stream",
     "text": [
      "\r",
      " 35%|████████████████████████████                                                    | 111/316 [01:18<00:57,  3.57it/s]"
     ]
    },
    {
     "name": "stdout",
     "output_type": "stream",
     "text": [
      "Datetime to process:\n",
      "2008-05-05 03:00:00\n",
      "Datetime to process:\n",
      "2008-05-05 04:00:00\n",
      "Datetime to process:\n",
      "2008-05-05 05:00:00\n"
     ]
    },
    {
     "name": "stderr",
     "output_type": "stream",
     "text": [
      " 36%|█████████████████████████████                                                   | 115/316 [01:18<00:37,  5.33it/s]"
     ]
    },
    {
     "name": "stdout",
     "output_type": "stream",
     "text": [
      "Datetime to process:\n",
      "2008-05-05 06:00:00\n",
      "Datetime to process:\n",
      "2008-05-05 07:00:00\n",
      "Datetime to process:\n",
      "2008-05-05 08:00:00\n",
      "Datetime to process:\n",
      "2008-05-05 09:00:00\n"
     ]
    },
    {
     "name": "stderr",
     "output_type": "stream",
     "text": [
      " 38%|██████████████████████████████▏                                                 | 119/316 [01:19<00:27,  7.10it/s]"
     ]
    },
    {
     "name": "stdout",
     "output_type": "stream",
     "text": [
      "Datetime to process:\n",
      "2008-05-05 10:00:00\n",
      "Datetime to process:\n",
      "2008-05-05 11:00:00\n",
      "Datetime to process:\n",
      "2008-05-05 12:00:00\n",
      "Datetime to process:\n",
      "2008-05-05 13:00:00\n"
     ]
    },
    {
     "name": "stderr",
     "output_type": "stream",
     "text": [
      " 39%|███████████████████████████████▏                                                | 123/316 [01:19<00:22,  8.52it/s]"
     ]
    },
    {
     "name": "stdout",
     "output_type": "stream",
     "text": [
      "Datetime to process:\n",
      "2008-05-05 14:00:00\n",
      "Datetime to process:\n",
      "2008-05-05 15:00:00\n",
      "Datetime to process:\n",
      "2008-05-05 16:00:00\n"
     ]
    },
    {
     "name": "stderr",
     "output_type": "stream",
     "text": [
      "\r",
      " 40%|███████████████████████████████▋                                                | 125/316 [01:19<00:20,  9.34it/s]"
     ]
    },
    {
     "name": "stdout",
     "output_type": "stream",
     "text": [
      "Datetime to process:\n",
      "2008-05-05 17:00:00\n",
      "Datetime to process:\n",
      "2008-05-05 18:00:00\n",
      "Datetime to process:\n",
      "2008-05-05 19:00:00\n"
     ]
    },
    {
     "name": "stderr",
     "output_type": "stream",
     "text": [
      " 41%|████████████████████████████████▋                                               | 129/316 [01:19<00:17, 10.50it/s]"
     ]
    },
    {
     "name": "stdout",
     "output_type": "stream",
     "text": [
      "Datetime to process:\n",
      "2008-05-05 20:00:00\n",
      "Datetime to process:\n",
      "2008-05-05 21:00:00\n",
      "Datetime to process:\n",
      "2008-05-05 22:00:00\n"
     ]
    },
    {
     "name": "stderr",
     "output_type": "stream",
     "text": [
      "\r",
      " 41%|█████████████████████████████████▏                                              | 131/316 [01:20<00:17, 10.85it/s]"
     ]
    },
    {
     "name": "stdout",
     "output_type": "stream",
     "text": [
      "Datetime to process:\n",
      "2008-05-05 23:00:00\n",
      "Datetime to process:\n",
      "2008-05-06 00:00:00\n",
      "Datetime to process:\n",
      "2008-05-06 01:00:00\n"
     ]
    },
    {
     "name": "stderr",
     "output_type": "stream",
     "text": [
      " 43%|██████████████████████████████████▏                                             | 135/316 [01:20<00:16, 10.83it/s]"
     ]
    },
    {
     "name": "stdout",
     "output_type": "stream",
     "text": [
      "Datetime to process:\n",
      "2008-05-06 02:00:00\n",
      "Datetime to process:\n",
      "2008-05-06 03:00:00\n"
     ]
    },
    {
     "name": "stderr",
     "output_type": "stream",
     "text": [
      "\r",
      " 43%|██████████████████████████████████▋                                             | 137/316 [01:20<00:16, 11.02it/s]"
     ]
    },
    {
     "name": "stdout",
     "output_type": "stream",
     "text": [
      "Datetime to process:\n",
      "2008-05-06 04:00:00\n",
      "Datetime to process:\n",
      "2008-05-06 05:00:00\n",
      "Datetime to process:\n",
      "2008-05-06 06:00:00\n"
     ]
    },
    {
     "name": "stderr",
     "output_type": "stream",
     "text": [
      "\r",
      " 44%|███████████████████████████████████▏                                            | 139/316 [01:20<00:15, 11.07it/s]"
     ]
    },
    {
     "name": "stdout",
     "output_type": "stream",
     "text": [
      "Datetime to process:\n",
      "2008-05-06 07:00:00\n",
      "Datetime to process:\n",
      "2008-05-06 08:00:00\n",
      "Datetime to process:\n",
      "2008-05-06 09:00:00\n"
     ]
    },
    {
     "name": "stderr",
     "output_type": "stream",
     "text": [
      " 45%|████████████████████████████████████▏                                           | 143/316 [01:21<00:15, 10.96it/s]"
     ]
    },
    {
     "name": "stdout",
     "output_type": "stream",
     "text": [
      "Datetime to process:\n",
      "2008-05-06 10:00:00\n",
      "Datetime to process:\n",
      "2008-05-06 11:00:00\n"
     ]
    },
    {
     "name": "stderr",
     "output_type": "stream",
     "text": [
      "\r",
      " 46%|████████████████████████████████████▋                                           | 145/316 [01:21<00:15, 11.18it/s]"
     ]
    },
    {
     "name": "stdout",
     "output_type": "stream",
     "text": [
      "Datetime to process:\n",
      "2008-05-06 12:00:00\n",
      "Datetime to process:\n",
      "2008-05-06 13:00:00\n",
      "Datetime to process:\n",
      "2008-05-06 14:00:00\n"
     ]
    },
    {
     "name": "stderr",
     "output_type": "stream",
     "text": [
      "\r",
      " 47%|█████████████████████████████████████▏                                          | 147/316 [01:21<00:14, 11.45it/s]"
     ]
    },
    {
     "name": "stdout",
     "output_type": "stream",
     "text": [
      "Datetime to process:\n",
      "2008-05-06 15:00:00\n",
      "Datetime to process:\n",
      "2008-05-06 16:00:00\n",
      "Datetime to process:\n",
      "2008-05-06 17:00:00\n"
     ]
    },
    {
     "name": "stderr",
     "output_type": "stream",
     "text": [
      " 48%|██████████████████████████████████████▏                                         | 151/316 [01:21<00:14, 11.37it/s]"
     ]
    },
    {
     "name": "stdout",
     "output_type": "stream",
     "text": [
      "Datetime to process:\n",
      "2008-05-06 18:00:00\n",
      "Datetime to process:\n",
      "2008-05-06 19:00:00\n"
     ]
    },
    {
     "name": "stderr",
     "output_type": "stream",
     "text": [
      "\r",
      " 48%|██████████████████████████████████████▋                                         | 153/316 [01:22<00:14, 11.43it/s]"
     ]
    },
    {
     "name": "stdout",
     "output_type": "stream",
     "text": [
      "Datetime to process:\n",
      "2008-05-06 20:00:00\n",
      "Datetime to process:\n",
      "2008-05-06 21:00:00\n",
      "Datetime to process:\n",
      "2008-05-06 22:00:00\n"
     ]
    },
    {
     "name": "stderr",
     "output_type": "stream",
     "text": [
      "\r",
      " 49%|███████████████████████████████████████▏                                        | 155/316 [01:22<00:14, 11.26it/s]"
     ]
    },
    {
     "name": "stdout",
     "output_type": "stream",
     "text": [
      "Datetime to process:\n",
      "2008-05-06 23:00:00\n",
      "Datetime to process:\n",
      "2008-05-07 00:00:00\n",
      "Datetime to process:\n",
      "2008-05-07 01:00:00\n"
     ]
    },
    {
     "name": "stderr",
     "output_type": "stream",
     "text": [
      "\r",
      " 50%|███████████████████████████████████████▋                                        | 157/316 [01:22<00:13, 11.47it/s]"
     ]
    },
    {
     "name": "stdout",
     "output_type": "stream",
     "text": [
      "Datetime to process:\n",
      "2008-05-07 02:00:00\n",
      "Datetime to process:\n",
      "2008-05-07 03:00:00\n"
     ]
    },
    {
     "name": "stderr",
     "output_type": "stream",
     "text": [
      " 51%|████████████████████████████████████████▊                                       | 161/316 [01:22<00:13, 11.14it/s]"
     ]
    },
    {
     "name": "stdout",
     "output_type": "stream",
     "text": [
      "Datetime to process:\n",
      "2008-05-07 04:00:00\n",
      "Datetime to process:\n",
      "2008-05-07 05:00:00\n",
      "Datetime to process:\n",
      "2008-05-07 06:00:00\n"
     ]
    },
    {
     "name": "stderr",
     "output_type": "stream",
     "text": [
      "\r",
      " 52%|█████████████████████████████████████████▎                                      | 163/316 [01:22<00:14, 10.66it/s]"
     ]
    },
    {
     "name": "stdout",
     "output_type": "stream",
     "text": [
      "Datetime to process:\n",
      "2008-05-07 07:00:00\n",
      "Datetime to process:\n",
      "2008-05-07 08:00:00\n",
      "Datetime to process:\n",
      "2008-05-07 09:00:00\n"
     ]
    },
    {
     "name": "stderr",
     "output_type": "stream",
     "text": [
      " 53%|██████████████████████████████████████████▎                                     | 167/316 [01:23<00:13, 10.90it/s]"
     ]
    },
    {
     "name": "stdout",
     "output_type": "stream",
     "text": [
      "Datetime to process:\n",
      "2008-05-07 10:00:00\n",
      "Datetime to process:\n",
      "2008-05-07 11:00:00\n",
      "Datetime to process:\n",
      "2008-05-07 12:00:00\n"
     ]
    },
    {
     "name": "stderr",
     "output_type": "stream",
     "text": [
      "\r",
      " 53%|██████████████████████████████████████████▊                                     | 169/316 [01:23<00:13, 10.91it/s]"
     ]
    },
    {
     "name": "stdout",
     "output_type": "stream",
     "text": [
      "Datetime to process:\n",
      "2008-05-07 13:00:00\n",
      "Datetime to process:\n",
      "2008-05-07 14:00:00\n",
      "Datetime to process:\n",
      "2008-05-07 15:00:00\n"
     ]
    },
    {
     "name": "stderr",
     "output_type": "stream",
     "text": [
      " 55%|███████████████████████████████████████████▊                                    | 173/316 [01:23<00:12, 11.16it/s]"
     ]
    },
    {
     "name": "stdout",
     "output_type": "stream",
     "text": [
      "Datetime to process:\n",
      "2008-05-07 16:00:00\n",
      "Datetime to process:\n",
      "2008-05-07 17:00:00\n",
      "Datetime to process:\n",
      "2008-05-07 18:00:00\n"
     ]
    },
    {
     "name": "stderr",
     "output_type": "stream",
     "text": [
      "\r",
      " 55%|████████████████████████████████████████████▎                                   | 175/316 [01:24<00:12, 11.17it/s]"
     ]
    },
    {
     "name": "stdout",
     "output_type": "stream",
     "text": [
      "Datetime to process:\n",
      "2008-05-07 19:00:00\n",
      "Datetime to process:\n",
      "2008-05-07 20:00:00\n",
      "Datetime to process:\n",
      "2008-05-07 21:00:00\n"
     ]
    },
    {
     "name": "stderr",
     "output_type": "stream",
     "text": [
      " 57%|█████████████████████████████████████████████▎                                  | 179/316 [01:24<00:11, 11.45it/s]"
     ]
    },
    {
     "name": "stdout",
     "output_type": "stream",
     "text": [
      "Datetime to process:\n",
      "2008-05-07 22:00:00\n",
      "Datetime to process:\n",
      "2008-05-07 23:00:00\n",
      "Datetime to process:\n",
      "2008-05-08 00:00:00\n",
      "Datetime to process:\n",
      "2008-05-09 10:00:00\n"
     ]
    },
    {
     "name": "stderr",
     "output_type": "stream",
     "text": [
      " 58%|██████████████████████████████████████████████▎                                 | 183/316 [01:25<00:16,  8.08it/s]"
     ]
    },
    {
     "name": "stdout",
     "output_type": "stream",
     "text": [
      "Datetime to process:\n",
      "2008-05-09 11:00:00\n",
      "Datetime to process:\n",
      "2008-05-09 12:00:00\n"
     ]
    },
    {
     "name": "stderr",
     "output_type": "stream",
     "text": [
      "\r",
      " 59%|██████████████████████████████████████████████▊                                 | 185/316 [01:25<00:14,  8.77it/s]"
     ]
    },
    {
     "name": "stdout",
     "output_type": "stream",
     "text": [
      "Datetime to process:\n",
      "2008-05-09 13:00:00\n",
      "Datetime to process:\n",
      "2008-05-09 14:00:00\n"
     ]
    },
    {
     "name": "stderr",
     "output_type": "stream",
     "text": [
      "\r",
      " 59%|███████████████████████████████████████████████▎                                | 187/316 [01:25<00:12,  9.94it/s]"
     ]
    },
    {
     "name": "stdout",
     "output_type": "stream",
     "text": [
      "Datetime to process:\n",
      "2008-05-09 15:00:00\n",
      "Datetime to process:\n",
      "2008-05-09 16:00:00\n",
      "Datetime to process:\n",
      "2008-05-09 17:00:00\n"
     ]
    },
    {
     "name": "stderr",
     "output_type": "stream",
     "text": [
      "\r",
      " 60%|███████████████████████████████████████████████▊                                | 189/316 [01:25<00:12, 10.19it/s]"
     ]
    },
    {
     "name": "stdout",
     "output_type": "stream",
     "text": [
      "Datetime to process:\n",
      "2008-05-09 18:00:00\n",
      "Datetime to process:\n",
      "2008-05-09 19:00:00\n",
      "Datetime to process:\n",
      "2008-05-09 20:00:00\n"
     ]
    },
    {
     "name": "stderr",
     "output_type": "stream",
     "text": [
      " 61%|████████████████████████████████████████████████▊                               | 193/316 [01:25<00:10, 11.36it/s]"
     ]
    },
    {
     "name": "stdout",
     "output_type": "stream",
     "text": [
      "Datetime to process:\n",
      "2008-05-09 21:00:00\n",
      "Datetime to process:\n",
      "2008-05-09 22:00:00\n",
      "Datetime to process:\n",
      "2008-05-09 23:00:00\n"
     ]
    },
    {
     "name": "stderr",
     "output_type": "stream",
     "text": [
      "\r",
      " 62%|█████████████████████████████████████████████████▎                              | 195/316 [01:26<00:10, 11.54it/s]"
     ]
    },
    {
     "name": "stdout",
     "output_type": "stream",
     "text": [
      "Datetime to process:\n",
      "2008-05-10 00:00:00\n",
      "Datetime to process:\n",
      "2008-05-10 01:00:00\n",
      "Datetime to process:\n",
      "2008-05-10 02:00:00\n"
     ]
    },
    {
     "name": "stderr",
     "output_type": "stream",
     "text": [
      " 63%|██████████████████████████████████████████████████▍                             | 199/316 [01:26<00:09, 11.90it/s]"
     ]
    },
    {
     "name": "stdout",
     "output_type": "stream",
     "text": [
      "Datetime to process:\n",
      "2008-05-10 03:00:00\n",
      "Datetime to process:\n",
      "2008-05-10 04:00:00\n",
      "Datetime to process:\n",
      "2008-05-10 05:00:00\n"
     ]
    },
    {
     "name": "stderr",
     "output_type": "stream",
     "text": [
      "\r",
      " 64%|██████████████████████████████████████████████████▉                             | 201/316 [01:26<00:09, 11.98it/s]"
     ]
    },
    {
     "name": "stdout",
     "output_type": "stream",
     "text": [
      "Datetime to process:\n",
      "2008-05-10 06:00:00\n",
      "Datetime to process:\n",
      "2008-05-10 07:00:00\n",
      "Datetime to process:\n",
      "2008-05-10 08:00:00\n"
     ]
    },
    {
     "name": "stderr",
     "output_type": "stream",
     "text": [
      " 65%|███████████████████████████████████████████████████▉                            | 205/316 [01:26<00:09, 11.87it/s]"
     ]
    },
    {
     "name": "stdout",
     "output_type": "stream",
     "text": [
      "Datetime to process:\n",
      "2008-05-10 09:00:00\n",
      "Datetime to process:\n",
      "2008-05-10 10:00:00\n",
      "Datetime to process:\n",
      "2008-05-10 11:00:00\n"
     ]
    },
    {
     "name": "stderr",
     "output_type": "stream",
     "text": [
      "\r",
      " 66%|████████████████████████████████████████████████████▍                           | 207/316 [01:27<00:08, 12.21it/s]"
     ]
    },
    {
     "name": "stdout",
     "output_type": "stream",
     "text": [
      "Datetime to process:\n",
      "2008-05-10 12:00:00\n",
      "Datetime to process:\n",
      "2008-05-10 13:00:00\n",
      "Datetime to process:\n",
      "2008-05-10 14:00:00\n"
     ]
    },
    {
     "name": "stderr",
     "output_type": "stream",
     "text": [
      " 67%|█████████████████████████████████████████████████████▍                          | 211/316 [01:27<00:08, 11.97it/s]"
     ]
    },
    {
     "name": "stdout",
     "output_type": "stream",
     "text": [
      "Datetime to process:\n",
      "2008-05-10 15:00:00\n",
      "Datetime to process:\n",
      "2008-05-10 16:00:00\n",
      "Datetime to process:\n",
      "2008-05-10 17:00:00\n"
     ]
    },
    {
     "name": "stderr",
     "output_type": "stream",
     "text": [
      "\r",
      " 67%|█████████████████████████████████████████████████████▉                          | 213/316 [01:27<00:08, 12.30it/s]"
     ]
    },
    {
     "name": "stdout",
     "output_type": "stream",
     "text": [
      "Datetime to process:\n",
      "2008-05-10 18:00:00\n",
      "Datetime to process:\n",
      "2008-05-10 19:00:00\n",
      "Datetime to process:\n",
      "2008-05-10 20:00:00\n"
     ]
    },
    {
     "name": "stderr",
     "output_type": "stream",
     "text": [
      " 69%|██████████████████████████████████████████████████████▉                         | 217/316 [01:27<00:08, 12.37it/s]"
     ]
    },
    {
     "name": "stdout",
     "output_type": "stream",
     "text": [
      "Datetime to process:\n",
      "2008-05-10 21:00:00\n",
      "Datetime to process:\n",
      "2008-05-10 22:00:00\n",
      "Datetime to process:\n",
      "2008-05-10 23:00:00\n"
     ]
    },
    {
     "name": "stderr",
     "output_type": "stream",
     "text": [
      "\r",
      " 69%|███████████████████████████████████████████████████████▍                        | 219/316 [01:27<00:07, 12.44it/s]"
     ]
    },
    {
     "name": "stdout",
     "output_type": "stream",
     "text": [
      "Datetime to process:\n",
      "2008-05-11 00:00:00\n",
      "Datetime to process:\n",
      "2008-05-11 01:00:00\n",
      "Datetime to process:\n",
      "2008-05-11 02:00:00\n"
     ]
    },
    {
     "name": "stderr",
     "output_type": "stream",
     "text": [
      " 71%|████████████████████████████████████████████████████████▍                       | 223/316 [01:28<00:07, 12.84it/s]"
     ]
    },
    {
     "name": "stdout",
     "output_type": "stream",
     "text": [
      "Datetime to process:\n",
      "2008-05-11 03:00:00\n",
      "Datetime to process:\n",
      "2008-05-11 04:00:00\n",
      "Datetime to process:\n",
      "2008-05-11 05:00:00\n"
     ]
    },
    {
     "name": "stderr",
     "output_type": "stream",
     "text": [
      "\r",
      " 71%|████████████████████████████████████████████████████████▉                       | 225/316 [01:28<00:07, 12.70it/s]"
     ]
    },
    {
     "name": "stdout",
     "output_type": "stream",
     "text": [
      "Datetime to process:\n",
      "2008-05-11 06:00:00\n",
      "Datetime to process:\n",
      "2008-05-11 07:00:00\n",
      "Datetime to process:\n",
      "2008-05-11 08:00:00\n"
     ]
    },
    {
     "name": "stderr",
     "output_type": "stream",
     "text": [
      " 72%|█████████████████████████████████████████████████████████▉                      | 229/316 [01:28<00:06, 13.00it/s]"
     ]
    },
    {
     "name": "stdout",
     "output_type": "stream",
     "text": [
      "Datetime to process:\n",
      "2008-05-11 09:00:00\n",
      "Datetime to process:\n",
      "2008-05-11 10:00:00\n",
      "Datetime to process:\n",
      "2008-05-11 11:00:00\n"
     ]
    },
    {
     "name": "stderr",
     "output_type": "stream",
     "text": [
      "\r",
      " 73%|██████████████████████████████████████████████████████████▍                     | 231/316 [01:28<00:06, 12.68it/s]"
     ]
    },
    {
     "name": "stdout",
     "output_type": "stream",
     "text": [
      "Datetime to process:\n",
      "2008-05-11 12:00:00\n",
      "Datetime to process:\n",
      "2008-05-11 13:00:00\n",
      "Datetime to process:\n",
      "2008-05-11 14:00:00\n"
     ]
    },
    {
     "name": "stderr",
     "output_type": "stream",
     "text": [
      " 74%|███████████████████████████████████████████████████████████▍                    | 235/316 [01:29<00:06, 13.00it/s]"
     ]
    },
    {
     "name": "stdout",
     "output_type": "stream",
     "text": [
      "Datetime to process:\n",
      "2008-05-11 15:00:00\n",
      "Datetime to process:\n",
      "2008-05-11 16:00:00\n",
      "Datetime to process:\n",
      "2008-05-11 17:00:00\n"
     ]
    },
    {
     "name": "stderr",
     "output_type": "stream",
     "text": [
      "\r",
      " 75%|████████████████████████████████████████████████████████████                    | 237/316 [01:29<00:06, 12.85it/s]"
     ]
    },
    {
     "name": "stdout",
     "output_type": "stream",
     "text": [
      "Datetime to process:\n",
      "2008-05-11 18:00:00\n",
      "Datetime to process:\n",
      "2008-05-11 19:00:00\n",
      "Datetime to process:\n",
      "2008-05-11 20:00:00\n"
     ]
    },
    {
     "name": "stderr",
     "output_type": "stream",
     "text": [
      " 76%|█████████████████████████████████████████████████████████████                   | 241/316 [01:29<00:05, 12.60it/s]"
     ]
    },
    {
     "name": "stdout",
     "output_type": "stream",
     "text": [
      "Datetime to process:\n",
      "2008-05-11 21:00:00\n",
      "Datetime to process:\n",
      "2008-05-11 22:00:00\n",
      "Datetime to process:\n",
      "2008-05-11 23:00:00\n"
     ]
    },
    {
     "name": "stderr",
     "output_type": "stream",
     "text": [
      "\r",
      " 77%|█████████████████████████████████████████████████████████████▌                  | 243/316 [01:29<00:05, 12.36it/s]"
     ]
    },
    {
     "name": "stdout",
     "output_type": "stream",
     "text": [
      "Datetime to process:\n",
      "2008-05-12 00:00:00\n",
      "Datetime to process:\n",
      "2008-05-12 01:00:00\n",
      "Datetime to process:\n",
      "2008-05-12 02:00:00\n"
     ]
    },
    {
     "name": "stderr",
     "output_type": "stream",
     "text": [
      " 78%|██████████████████████████████████████████████████████████████▌                 | 247/316 [01:30<00:05, 12.83it/s]"
     ]
    },
    {
     "name": "stdout",
     "output_type": "stream",
     "text": [
      "Datetime to process:\n",
      "2008-05-12 03:00:00\n",
      "Datetime to process:\n",
      "2008-05-12 04:00:00\n",
      "Datetime to process:\n",
      "2008-05-12 05:00:00\n"
     ]
    },
    {
     "name": "stderr",
     "output_type": "stream",
     "text": [
      "\r",
      " 79%|███████████████████████████████████████████████████████████████                 | 249/316 [01:30<00:05, 12.73it/s]"
     ]
    },
    {
     "name": "stdout",
     "output_type": "stream",
     "text": [
      "Datetime to process:\n",
      "2008-05-12 06:00:00\n",
      "Datetime to process:\n",
      "2008-05-12 07:00:00\n",
      "Datetime to process:\n",
      "2008-05-12 08:00:00\n"
     ]
    },
    {
     "name": "stderr",
     "output_type": "stream",
     "text": [
      " 80%|████████████████████████████████████████████████████████████████                | 253/316 [01:30<00:05, 12.34it/s]"
     ]
    },
    {
     "name": "stdout",
     "output_type": "stream",
     "text": [
      "Datetime to process:\n",
      "2008-05-12 09:00:00\n",
      "Datetime to process:\n",
      "2008-05-12 10:00:00\n",
      "Datetime to process:\n",
      "2008-05-12 11:00:00\n"
     ]
    },
    {
     "name": "stderr",
     "output_type": "stream",
     "text": [
      "\r",
      " 81%|████████████████████████████████████████████████████████████████▌               | 255/316 [01:30<00:04, 12.39it/s]"
     ]
    },
    {
     "name": "stdout",
     "output_type": "stream",
     "text": [
      "Datetime to process:\n",
      "2008-05-12 12:00:00\n",
      "Datetime to process:\n",
      "2008-05-12 13:00:00\n",
      "Datetime to process:\n",
      "2008-05-12 14:00:00\n"
     ]
    },
    {
     "name": "stderr",
     "output_type": "stream",
     "text": [
      " 82%|█████████████████████████████████████████████████████████████████▌              | 259/316 [01:31<00:04, 12.82it/s]"
     ]
    },
    {
     "name": "stdout",
     "output_type": "stream",
     "text": [
      "Datetime to process:\n",
      "2008-05-12 15:00:00\n",
      "Datetime to process:\n",
      "2008-05-12 16:00:00\n",
      "Datetime to process:\n",
      "2008-05-12 17:00:00\n"
     ]
    },
    {
     "name": "stderr",
     "output_type": "stream",
     "text": [
      "\r",
      " 83%|██████████████████████████████████████████████████████████████████              | 261/316 [01:31<00:04, 12.48it/s]"
     ]
    },
    {
     "name": "stdout",
     "output_type": "stream",
     "text": [
      "Datetime to process:\n",
      "2008-05-12 18:00:00\n",
      "Datetime to process:\n",
      "2008-05-12 19:00:00\n",
      "Datetime to process:\n",
      "2008-05-12 20:00:00\n"
     ]
    },
    {
     "name": "stderr",
     "output_type": "stream",
     "text": [
      " 84%|███████████████████████████████████████████████████████████████████             | 265/316 [01:31<00:04, 12.66it/s]"
     ]
    },
    {
     "name": "stdout",
     "output_type": "stream",
     "text": [
      "Datetime to process:\n",
      "2008-05-12 21:00:00\n",
      "Datetime to process:\n",
      "2008-05-12 22:00:00\n",
      "Datetime to process:\n",
      "2008-05-12 23:00:00\n"
     ]
    },
    {
     "name": "stderr",
     "output_type": "stream",
     "text": [
      "\r",
      " 84%|███████████████████████████████████████████████████████████████████▌            | 267/316 [01:31<00:03, 12.61it/s]"
     ]
    },
    {
     "name": "stdout",
     "output_type": "stream",
     "text": [
      "Datetime to process:\n",
      "2008-05-13 00:00:00\n",
      "Datetime to process:\n",
      "2008-05-13 01:00:00\n",
      "Datetime to process:\n",
      "2008-05-13 02:00:00\n"
     ]
    },
    {
     "name": "stderr",
     "output_type": "stream",
     "text": [
      " 86%|████████████████████████████████████████████████████████████████████▌           | 271/316 [01:32<00:03, 13.13it/s]"
     ]
    },
    {
     "name": "stdout",
     "output_type": "stream",
     "text": [
      "Datetime to process:\n",
      "2008-05-13 03:00:00\n",
      "Datetime to process:\n",
      "2008-05-13 04:00:00\n",
      "Datetime to process:\n",
      "2008-05-13 05:00:00\n"
     ]
    },
    {
     "name": "stderr",
     "output_type": "stream",
     "text": [
      "\r",
      " 86%|█████████████████████████████████████████████████████████████████████           | 273/316 [01:32<00:03, 12.77it/s]"
     ]
    },
    {
     "name": "stdout",
     "output_type": "stream",
     "text": [
      "Datetime to process:\n",
      "2008-05-13 06:00:00\n",
      "Datetime to process:\n",
      "2008-05-13 07:00:00\n",
      "Datetime to process:\n",
      "2008-05-13 08:00:00\n"
     ]
    },
    {
     "name": "stderr",
     "output_type": "stream",
     "text": [
      " 88%|██████████████████████████████████████████████████████████████████████▏         | 277/316 [01:32<00:03, 12.25it/s]"
     ]
    },
    {
     "name": "stdout",
     "output_type": "stream",
     "text": [
      "Datetime to process:\n",
      "2008-05-13 09:00:00\n",
      "Datetime to process:\n",
      "2008-05-13 10:00:00\n",
      "Datetime to process:\n",
      "2008-05-13 11:00:00\n"
     ]
    },
    {
     "name": "stderr",
     "output_type": "stream",
     "text": [
      "\r",
      " 88%|██████████████████████████████████████████████████████████████████████▋         | 279/316 [01:32<00:03, 11.84it/s]"
     ]
    },
    {
     "name": "stdout",
     "output_type": "stream",
     "text": [
      "Datetime to process:\n",
      "2008-05-13 12:00:00\n",
      "Datetime to process:\n",
      "2008-05-13 13:00:00\n",
      "Datetime to process:\n",
      "2008-05-13 14:00:00\n"
     ]
    },
    {
     "name": "stderr",
     "output_type": "stream",
     "text": [
      " 90%|███████████████████████████████████████████████████████████████████████▋        | 283/316 [01:33<00:02, 11.53it/s]"
     ]
    },
    {
     "name": "stdout",
     "output_type": "stream",
     "text": [
      "Datetime to process:\n",
      "2008-05-13 15:00:00\n",
      "Datetime to process:\n",
      "2008-05-13 16:00:00\n"
     ]
    },
    {
     "name": "stderr",
     "output_type": "stream",
     "text": [
      "\r",
      " 90%|████████████████████████████████████████████████████████████████████████▏       | 285/316 [01:33<00:02, 11.44it/s]"
     ]
    },
    {
     "name": "stdout",
     "output_type": "stream",
     "text": [
      "Datetime to process:\n",
      "2008-05-13 17:00:00\n",
      "Datetime to process:\n",
      "2008-05-13 18:00:00\n"
     ]
    },
    {
     "name": "stderr",
     "output_type": "stream",
     "text": [
      "\r",
      " 91%|████████████████████████████████████████████████████████████████████████▋       | 287/316 [01:33<00:02, 11.41it/s]"
     ]
    },
    {
     "name": "stdout",
     "output_type": "stream",
     "text": [
      "Datetime to process:\n",
      "2008-05-13 19:00:00\n",
      "Datetime to process:\n",
      "2008-05-13 20:00:00\n",
      "Datetime to process:\n",
      "2008-05-13 21:00:00\n"
     ]
    },
    {
     "name": "stderr",
     "output_type": "stream",
     "text": [
      "\r",
      " 91%|█████████████████████████████████████████████████████████████████████████▏      | 289/316 [01:33<00:02, 11.58it/s]"
     ]
    },
    {
     "name": "stdout",
     "output_type": "stream",
     "text": [
      "Datetime to process:\n",
      "2008-05-13 22:00:00\n",
      "Datetime to process:\n",
      "2008-05-13 23:00:00\n",
      "Datetime to process:\n",
      "2008-05-14 00:00:00\n"
     ]
    },
    {
     "name": "stderr",
     "output_type": "stream",
     "text": [
      " 93%|██████████████████████████████████████████████████████████████████████████▏     | 293/316 [01:33<00:01, 12.03it/s]"
     ]
    },
    {
     "name": "stdout",
     "output_type": "stream",
     "text": [
      "Datetime to process:\n",
      "2008-05-14 01:00:00\n",
      "Datetime to process:\n",
      "2008-05-14 02:00:00\n",
      "Datetime to process:\n",
      "2008-05-14 03:00:00\n"
     ]
    },
    {
     "name": "stderr",
     "output_type": "stream",
     "text": [
      "\r",
      " 93%|██████████████████████████████████████████████████████████████████████████▋     | 295/316 [01:34<00:01, 11.98it/s]"
     ]
    },
    {
     "name": "stdout",
     "output_type": "stream",
     "text": [
      "Datetime to process:\n",
      "2008-05-14 04:00:00\n",
      "Datetime to process:\n",
      "2008-05-14 05:00:00\n",
      "Datetime to process:\n",
      "2008-05-14 06:00:00\n"
     ]
    },
    {
     "name": "stderr",
     "output_type": "stream",
     "text": [
      " 95%|███████████████████████████████████████████████████████████████████████████▋    | 299/316 [01:34<00:01, 12.45it/s]"
     ]
    },
    {
     "name": "stdout",
     "output_type": "stream",
     "text": [
      "Datetime to process:\n",
      "2008-05-14 07:00:00\n",
      "Datetime to process:\n",
      "2008-05-14 08:00:00\n",
      "Datetime to process:\n",
      "2008-05-14 09:00:00\n"
     ]
    },
    {
     "name": "stderr",
     "output_type": "stream",
     "text": [
      "\r",
      " 95%|████████████████████████████████████████████████████████████████████████████▏   | 301/316 [01:34<00:01, 12.35it/s]"
     ]
    },
    {
     "name": "stdout",
     "output_type": "stream",
     "text": [
      "Datetime to process:\n",
      "2008-05-14 10:00:00\n",
      "Datetime to process:\n",
      "2008-05-14 11:00:00\n",
      "Datetime to process:\n",
      "2008-05-14 12:00:00\n"
     ]
    },
    {
     "name": "stderr",
     "output_type": "stream",
     "text": [
      " 97%|█████████████████████████████████████████████████████████████████████████████▏  | 305/316 [01:34<00:00, 12.07it/s]"
     ]
    },
    {
     "name": "stdout",
     "output_type": "stream",
     "text": [
      "Datetime to process:\n",
      "2008-05-14 13:00:00\n",
      "Datetime to process:\n",
      "2008-05-14 14:00:00\n",
      "Datetime to process:\n",
      "2008-05-14 15:00:00\n"
     ]
    },
    {
     "name": "stderr",
     "output_type": "stream",
     "text": [
      "\r",
      " 97%|█████████████████████████████████████████████████████████████████████████████▋  | 307/316 [01:35<00:00, 11.97it/s]"
     ]
    },
    {
     "name": "stdout",
     "output_type": "stream",
     "text": [
      "Datetime to process:\n",
      "2008-05-14 16:00:00\n",
      "Datetime to process:\n",
      "2008-05-14 17:00:00\n",
      "Datetime to process:\n",
      "2008-05-14 18:00:00\n"
     ]
    },
    {
     "name": "stderr",
     "output_type": "stream",
     "text": [
      " 98%|██████████████████████████████████████████████████████████████████████████████▋ | 311/316 [01:35<00:00, 11.74it/s]"
     ]
    },
    {
     "name": "stdout",
     "output_type": "stream",
     "text": [
      "Datetime to process:\n",
      "2008-05-14 19:00:00\n",
      "Datetime to process:\n",
      "2008-05-14 20:00:00\n"
     ]
    },
    {
     "name": "stderr",
     "output_type": "stream",
     "text": [
      "\r",
      " 99%|███████████████████████████████████████████████████████████████████████████████▏| 313/316 [01:35<00:00, 11.81it/s]"
     ]
    },
    {
     "name": "stdout",
     "output_type": "stream",
     "text": [
      "Datetime to process:\n",
      "2008-05-14 21:00:00\n",
      "Datetime to process:\n",
      "2008-05-14 22:00:00\n",
      "Datetime to process:\n",
      "2008-05-14 23:00:00\n"
     ]
    },
    {
     "name": "stderr",
     "output_type": "stream",
     "text": [
      "\r",
      "100%|███████████████████████████████████████████████████████████████████████████████▋| 315/316 [01:35<00:00, 12.02it/s]"
     ]
    },
    {
     "name": "stdout",
     "output_type": "stream",
     "text": [
      "Datetime to process:\n",
      "2008-05-15 00:00:00\n",
      "Datetime to process:\n",
      "2023-11-23 06:00:00\n"
     ]
    },
    {
     "name": "stderr",
     "output_type": "stream",
     "text": [
      "100%|████████████████████████████████████████████████████████████████████████████████| 316/316 [01:37<00:00,  3.23it/s]\n"
     ]
    }
   ],
   "source": [
    "generate_based_on_df(df_all_missing_memory, meteo_dir = r'D:/GDAS_met_files', \n",
    "                     storage_dir=r'D:/HYSPLIT_runs_ensemble/')"
   ]
  },
  {
   "cell_type": "code",
   "execution_count": null,
   "id": "8ff6d80c",
   "metadata": {},
   "outputs": [],
   "source": []
  }
 ],
 "metadata": {
  "kernelspec": {
   "display_name": "Python 3",
   "language": "python",
   "name": "python3"
  },
  "language_info": {
   "codemirror_mode": {
    "name": "ipython",
    "version": 3
   },
   "file_extension": ".py",
   "mimetype": "text/x-python",
   "name": "python",
   "nbconvert_exporter": "python",
   "pygments_lexer": "ipython3",
   "version": "3.8.6"
  },
  "toc": {
   "base_numbering": 1,
   "nav_menu": {},
   "number_sections": true,
   "sideBar": true,
   "skip_h1_title": false,
   "title_cell": "Table of Contents",
   "title_sidebar": "Contents",
   "toc_cell": false,
   "toc_position": {},
   "toc_section_display": true,
   "toc_window_display": false
  },
  "varInspector": {
   "cols": {
    "lenName": 16,
    "lenType": 16,
    "lenVar": 40
   },
   "kernels_config": {
    "python": {
     "delete_cmd_postfix": "",
     "delete_cmd_prefix": "del ",
     "library": "var_list.py",
     "varRefreshCmd": "print(var_dic_list())"
    },
    "r": {
     "delete_cmd_postfix": ") ",
     "delete_cmd_prefix": "rm(",
     "library": "var_list.r",
     "varRefreshCmd": "cat(var_dic_list()) "
    }
   },
   "types_to_exclude": [
    "module",
    "function",
    "builtin_function_or_method",
    "instance",
    "_Feature"
   ],
   "window_display": false
  }
 },
 "nbformat": 4,
 "nbformat_minor": 5
}

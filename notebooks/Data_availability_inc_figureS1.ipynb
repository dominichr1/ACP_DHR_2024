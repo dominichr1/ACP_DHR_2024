{
 "cells": [
  {
   "cell_type": "markdown",
   "id": "b9e858ab",
   "metadata": {},
   "source": [
    "# Data availability: \n",
    "\n",
    "## Figure S1"
   ]
  },
  {
   "cell_type": "code",
   "execution_count": 1,
   "id": "681db9c5",
   "metadata": {
    "ExecuteTime": {
     "end_time": "2023-12-29T11:18:05.060218Z",
     "start_time": "2023-12-29T11:18:03.947257Z"
    }
   },
   "outputs": [],
   "source": [
    "import sys\n",
    "import numpy as np\n",
    "import pandas as pd\n",
    "\n",
    "sys.path.append(r'C:\\Users\\DominicHeslinRees\\Documents\\ACP_2023\\scripts\\data_availability')\n",
    "import data_availability_functions as fu_data_avail\n",
    "\n",
    "%load_ext autoreload\n",
    "%autoreload 2"
   ]
  },
  {
   "cell_type": "code",
   "execution_count": 2,
   "id": "8c66e76c",
   "metadata": {
    "ExecuteTime": {
     "end_time": "2023-12-29T11:18:05.135939Z",
     "start_time": "2023-12-29T11:18:05.060218Z"
    }
   },
   "outputs": [],
   "source": [
    "savepath = r'C:\\Users\\DominicHeslinRees\\Documents\\ACP_2023\\plots'\n",
    "path = r'C:\\Users\\DominicHeslinRees\\Documents\\ACP_2023\\Analysis'"
   ]
  },
  {
   "cell_type": "code",
   "execution_count": 3,
   "id": "e3f08b63",
   "metadata": {
    "ExecuteTime": {
     "end_time": "2023-12-29T11:18:13.363095Z",
     "start_time": "2023-12-29T11:18:05.136937Z"
    }
   },
   "outputs": [
    {
     "name": "stdout",
     "output_type": "stream",
     "text": [
      "loading: C:\\Users\\DominicHeslinRees\\Documents\\ACP_2023\\Analysis\\aethalometer\\df_aethalometer_660.dat\n",
      "loading: C:\\Users\\DominicHeslinRees\\Documents\\ACP_2023\\Analysis\\Neph\\\\df_LOD_TSI.dat\n",
      "loading: C:\\Users\\DominicHeslinRees\\Documents\\ACP_2023\\Analysis\\absorption\\Old_PSAP_EBAS\\\\PSAP_EBAS.dat\n",
      "loading: C:\\Users\\DominicHeslinRees\\Documents\\ACP_2023\\Analysis\\absorption\\old_PSAP\\\\df_abs_neph_clean_bond.dat\n",
      "loading: C:\\Users\\DominicHeslinRees\\Documents\\ACP_2023\\Analysis\\absorption\\New_PSAP\\New_PSAP.dat\n",
      "loading: C:\\Users\\DominicHeslinRees\\Documents\\ACP_2023\\Analysis\\absorption\\MAAP\\hourly_MAAP_mean_extremes.dat\n",
      "loading: C:\\Users\\DominicHeslinRees\\Documents\\ACP_2023\\Analysis\\Neph\\ecotech\\\\noLOD_cleaned_hourly_ecotech_data.dat\n"
     ]
    }
   ],
   "source": [
    "df_Aeth = fu_data_avail.load_df(path+\"\\\\aethalometer\", filename='df_aethalometer_660')\n",
    "\n",
    "df_TSI = fu_data_avail.load_df(path+\"\\\\Neph\\\\\", filename='df_LOD_TSI')\n",
    "\n",
    "df_oldPSAP_EBAS = fu_data_avail.load_df(path+\"\\\\absorption\\Old_PSAP_EBAS\\\\\", filename=\"PSAP_EBAS\")\n",
    "df_oldPSAP_EBAS = fu_data_avail.rename_col(df_oldPSAP_EBAS, old_col_name='aerosol_absorption_coefficient', new_col_name='abs')\n",
    "\n",
    "df_oldPSAP = fu_data_avail.load_df(path+\"\\\\absorption\\\\old_PSAP\\\\\", filename=\"df_abs_neph_clean_bond\")\n",
    "df_oldPSAP = fu_data_avail.rename_col(df_oldPSAP, old_col_name='abs_neph', new_col_name='abs_old')\n",
    "\n",
    "df_newPSAP =  fu_data_avail.load_df(path+'\\\\absorption\\\\New_PSAP', filename='New_PSAP', formatdata=\".dat\")\n",
    "\n",
    "df_MAAP = fu_data_avail.load_df(path+'\\\\absorption\\\\MAAP', filename=\"hourly_MAAP_mean_extremes\")\n",
    "\n",
    "df_ecotech = fu_data_avail.load_df(path+\"\\\\Neph\\\\ecotech\\\\\", filename=\"noLOD_cleaned_hourly_ecotech_data\")"
   ]
  },
  {
   "cell_type": "markdown",
   "id": "43e7d390",
   "metadata": {},
   "source": [
    "## Mie code: "
   ]
  },
  {
   "cell_type": "code",
   "execution_count": 4,
   "id": "272a8017",
   "metadata": {
    "ExecuteTime": {
     "end_time": "2023-12-29T11:18:13.732747Z",
     "start_time": "2023-12-29T11:18:13.363095Z"
    }
   },
   "outputs": [
    {
     "ename": "ModuleNotFoundError",
     "evalue": "No module named 'Mie_DMPS_functions'",
     "output_type": "error",
     "traceback": [
      "\u001b[1;31m---------------------------------------------------------------------------\u001b[0m",
      "\u001b[1;31mModuleNotFoundError\u001b[0m                       Traceback (most recent call last)",
      "\u001b[1;32m<ipython-input-4-b8ad937e4268>\u001b[0m in \u001b[0;36m<module>\u001b[1;34m\u001b[0m\n\u001b[0;32m      1\u001b[0m \u001b[0msys\u001b[0m\u001b[1;33m.\u001b[0m\u001b[0mpath\u001b[0m\u001b[1;33m.\u001b[0m\u001b[0mappend\u001b[0m\u001b[1;33m(\u001b[0m\u001b[1;34mr'C:\\Users\\DominicHeslinRees\\Documents\\ACP_2023\\scripts\\Mie_DMPS_functions'\u001b[0m\u001b[1;33m)\u001b[0m\u001b[1;33m\u001b[0m\u001b[1;33m\u001b[0m\u001b[0m\n\u001b[0;32m      2\u001b[0m \u001b[1;33m\u001b[0m\u001b[0m\n\u001b[1;32m----> 3\u001b[1;33m \u001b[1;32mimport\u001b[0m \u001b[0mMie_DMPS_functions\u001b[0m \u001b[1;32mas\u001b[0m \u001b[0mfu_Mie\u001b[0m\u001b[1;33m\u001b[0m\u001b[1;33m\u001b[0m\u001b[0m\n\u001b[0m\u001b[0;32m      4\u001b[0m \u001b[1;33m\u001b[0m\u001b[0m\n\u001b[0;32m      5\u001b[0m \u001b[0mDFs_2000_2009\u001b[0m \u001b[1;33m=\u001b[0m \u001b[0mfu_Mie\u001b[0m\u001b[1;33m.\u001b[0m\u001b[0mappend_to_DFs_2000_2009\u001b[0m\u001b[1;33m(\u001b[0m\u001b[0mpath\u001b[0m \u001b[1;33m=\u001b[0m \u001b[1;34m\"C:\\\\Users\\\\DominicHeslinRees\\\\Documents\\\\Data\\\\DMPS_ZEP\\\\DMPS_all\\\\\"\u001b[0m\u001b[1;33m,\u001b[0m \u001b[0mname\u001b[0m\u001b[1;33m=\u001b[0m\u001b[1;34m'ANNUAL'\u001b[0m\u001b[1;33m)\u001b[0m\u001b[1;33m\u001b[0m\u001b[1;33m\u001b[0m\u001b[0m\n",
      "\u001b[1;31mModuleNotFoundError\u001b[0m: No module named 'Mie_DMPS_functions'"
     ]
    }
   ],
   "source": [
    "sys.path.append(r'C:\\Users\\DominicHeslinRees\\Documents\\ACP_2023\\scripts\\Mie_DMPS_functions')\n",
    "\n",
    "import Mie_DMPS_functions as fu_Mie\n",
    "\n",
    "DFs_2000_2009 = fu_Mie.append_to_DFs_2000_2009(path = \"C:\\\\Users\\\\DominicHeslinRees\\\\Documents\\\\Data\\\\DMPS_ZEP\\\\DMPS_all\\\\\", name='ANNUAL')\n",
    "DFs_2010_2020 = fu_Mie.load_and_append_2010_2020('C:\\\\Users\\\\DominicHeslinRees\\\\Documents\\\\Data\\\\DMPS_ZEP\\\\DATA_ZEP_2010to2020\\\\', \n",
    "                             name_in_file='DMPS')"
   ]
  },
  {
   "cell_type": "code",
   "execution_count": null,
   "id": "02f8107e",
   "metadata": {
    "ExecuteTime": {
     "end_time": "2023-12-29T11:18:13.736575Z",
     "start_time": "2023-12-29T11:18:03.950Z"
    }
   },
   "outputs": [],
   "source": [
    "DFs_2000_2005 = DFs_2000_2009[0:6]\n",
    "DFs_2006_2009 = DFs_2000_2009[6:10]\n",
    "\n",
    "df_2000_2005 = fu_Mie.concat_df_2000_2005(DFs_2000_2005)\n",
    "df_2006_2009 = fu_Mie.concat_df_2006_2009(DFs_2006_2009)\n",
    "df_2010_2020 = fu_Mie.concat_df_2010_2020(DFs_2010_2020)"
   ]
  },
  {
   "cell_type": "code",
   "execution_count": null,
   "id": "fc97f0da",
   "metadata": {
    "ExecuteTime": {
     "end_time": "2023-12-29T11:18:13.737560Z",
     "start_time": "2023-12-29T11:18:03.951Z"
    }
   },
   "outputs": [],
   "source": [
    "for value in [10000.0, 0.0, 999.999, 0.999]:\n",
    "    df_2000_2005 = df_2000_2005.replace(value, np.nan)\n",
    "    df_2006_2009 = df_2006_2009.replace(value, np.nan)\n",
    "    df_2010_2020 = df_2010_2020.replace(value, np.nan)"
   ]
  },
  {
   "cell_type": "code",
   "execution_count": null,
   "id": "3c99dbfc",
   "metadata": {
    "ExecuteTime": {
     "end_time": "2023-12-29T11:18:13.737560Z",
     "start_time": "2023-12-29T11:18:03.951Z"
    }
   },
   "outputs": [],
   "source": [
    "df_2000_2005 = df_2000_2005.dropna(how='all')\n",
    "df_2006_2009 = df_2006_2009.dropna(how='all')\n",
    "df_2010_2020 = df_2010_2020.dropna(how='all')"
   ]
  },
  {
   "cell_type": "code",
   "execution_count": null,
   "id": "2c072917",
   "metadata": {
    "ExecuteTime": {
     "end_time": "2023-12-29T11:18:13.738562Z",
     "start_time": "2023-12-29T11:18:03.952Z"
    }
   },
   "outputs": [],
   "source": [
    "loadpath = \"C:\\\\Users\\\\DominicHeslinRees\\\\Documents\\\\Analysis\\\\Mie_DMPS\\\\\"\n",
    "\n",
    "df_DMPS_2010_2020 = pd.read_csv(loadpath+\"DMPS_2010_2020.dat\", index_col=0, parse_dates=True)\n",
    "df_DMPS_2010_2020['sum'] = df_DMPS_2010_2020.sum(axis=1)\n",
    "\n",
    "df_2000_2005_Mie = pd.read_csv(loadpath+\"df_2000_2005_Mie.dat\", index_col=0, parse_dates=True)\n",
    "df_2006_2009_Mie = pd.read_csv(loadpath+\"df_2006_2009_Mie.dat\", index_col=0, parse_dates=True)\n",
    "df_2010_2020_Mie = pd.read_csv(loadpath+\"df_2010_2020_Mie.dat\", index_col=0, parse_dates=True)\n",
    "\n",
    "df_2000_2020_Mie = pd.concat([df_2000_2005_Mie, df_2006_2009_Mie, df_2010_2020_Mie])\n",
    "df_2000_2020_Mie = df_2000_2020_Mie.replace(0, np.nan)\n",
    "\n",
    "df_2000_2020_Mie['Mie'] = True\n",
    "\n",
    "df_2000_2020_Mie = df_2000_2020_Mie.sort_index()\n",
    "print(len(df_2000_2020_Mie))"
   ]
  },
  {
   "cell_type": "code",
   "execution_count": null,
   "id": "677040bc",
   "metadata": {
    "ExecuteTime": {
     "end_time": "2023-12-29T11:18:13.740561Z",
     "start_time": "2023-12-29T11:18:03.953Z"
    }
   },
   "outputs": [],
   "source": [
    "def remove_datetimes(df, date_list):\n",
    "    df = df[~df.index.to_series().isin(date_list)]\n",
    "    return df\n",
    "\n",
    "def include_datetimes(df, date_list):\n",
    "    df = df[df.index.to_series().isin(date_list)]\n",
    "    return df"
   ]
  },
  {
   "cell_type": "code",
   "execution_count": null,
   "id": "0d7bdb00",
   "metadata": {
    "ExecuteTime": {
     "end_time": "2023-12-29T11:18:13.741563Z",
     "start_time": "2023-12-29T11:18:03.954Z"
    }
   },
   "outputs": [],
   "source": [
    "df_2000_2020_Mie = remove_datetimes(df_2000_2020_Mie, df_TSI.index)\n",
    "df_2000_2020_Mie = df_2000_2020_Mie[df_2000_2020_Mie.index < df_newPSAP.index[-1]]\n",
    "\n",
    "df_2000_2020_Mie_EBAS = include_datetimes(df_2000_2020_Mie, df_oldPSAP_EBAS.index)\n",
    "df_2000_2020_Mie_OLD = include_datetimes(df_2000_2020_Mie, df_oldPSAP.index)\n",
    "df_2000_2020_Mie_NEW = include_datetimes(df_2000_2020_Mie, df_newPSAP.index)"
   ]
  },
  {
   "cell_type": "code",
   "execution_count": null,
   "id": "2145dd66",
   "metadata": {
    "ExecuteTime": {
     "end_time": "2023-12-29T11:18:13.741563Z",
     "start_time": "2023-12-29T11:18:03.955Z"
    }
   },
   "outputs": [],
   "source": [
    "df_DMPS = pd.concat([df_2000_2020_Mie_OLD, df_2000_2020_Mie_NEW], axis=0)"
   ]
  },
  {
   "cell_type": "code",
   "execution_count": null,
   "id": "39d5cee6",
   "metadata": {
    "ExecuteTime": {
     "end_time": "2023-12-29T11:18:13.742566Z",
     "start_time": "2023-12-29T11:18:03.957Z"
    }
   },
   "outputs": [],
   "source": [
    "df_DMPS.head(2)"
   ]
  },
  {
   "cell_type": "code",
   "execution_count": null,
   "id": "21e3b717",
   "metadata": {
    "ExecuteTime": {
     "end_time": "2023-12-29T11:18:13.743561Z",
     "start_time": "2023-12-29T11:18:03.957Z"
    }
   },
   "outputs": [],
   "source": [
    "df_Aeth.columns"
   ]
  },
  {
   "cell_type": "code",
   "execution_count": null,
   "id": "fda8c64b",
   "metadata": {
    "ExecuteTime": {
     "end_time": "2023-12-29T11:18:13.744563Z",
     "start_time": "2023-12-29T11:18:03.958Z"
    }
   },
   "outputs": [],
   "source": [
    "dfs = {'Ecotech':df_ecotech, 'MAAP':df_MAAP, \n",
    "       'Automatic PSAP':df_newPSAP, 'Manual PSAP':df_oldPSAP,\n",
    "       'Manual PSAP (EBAS)':df_oldPSAP_EBAS, 'TSI': df_TSI, \n",
    "       'Aeth': df_Aeth, 'DMPS ($\\sigma_{\\mathrm{sp-Mie}}$)':df_DMPS}\n",
    "\n",
    "dict_instru_variables = {'MAAP':'absorption','Automatic PSAP':'abs525',\n",
    "                        'Manual PSAP':'abs_old', 'TSI':'scat550',\n",
    "                         'Manual PSAP (EBAS)':'abs','Ecotech':'scat550',\n",
    "                         'Aeth':'Conc660','TSI':'scat550', \n",
    "                         'DMPS ($\\sigma_{\\mathrm{sp-Mie}}$)':'scat550'}"
   ]
  },
  {
   "cell_type": "code",
   "execution_count": null,
   "id": "35fe409d",
   "metadata": {
    "ExecuteTime": {
     "end_time": "2023-12-29T11:18:13.744563Z",
     "start_time": "2023-12-29T11:18:03.959Z"
    }
   },
   "outputs": [],
   "source": [
    "df_DMPS"
   ]
  },
  {
   "cell_type": "code",
   "execution_count": null,
   "id": "4bd76dbd",
   "metadata": {
    "ExecuteTime": {
     "end_time": "2023-12-29T11:18:13.745601Z",
     "start_time": "2023-12-29T11:18:03.960Z"
    }
   },
   "outputs": [],
   "source": [
    "dti = pd.date_range(df_TSI.index[0].date(), end=df_MAAP.index[-1].date(), freq=\"3M\")"
   ]
  },
  {
   "cell_type": "code",
   "execution_count": null,
   "id": "9f773ec1",
   "metadata": {
    "ExecuteTime": {
     "end_time": "2023-12-29T11:18:13.746563Z",
     "start_time": "2023-12-29T11:18:03.961Z"
    }
   },
   "outputs": [],
   "source": [
    "dict_instru_variables"
   ]
  },
  {
   "cell_type": "code",
   "execution_count": null,
   "id": "f580b2a3",
   "metadata": {
    "ExecuteTime": {
     "end_time": "2023-12-29T11:18:13.747561Z",
     "start_time": "2023-12-29T11:18:03.962Z"
    }
   },
   "outputs": [],
   "source": [
    "df_2000_2020_Mie_OLD = df_2000_2020_Mie_OLD.copy()\n",
    "df_2000_2020_Mie_OLD.loc[:,'DMPS ($\\sigma_{\\mathrm{sp-Mie}}$)'] = 4\n",
    "\n",
    "df_2000_2020_Mie_NEW = df_2000_2020_Mie_NEW.copy()\n",
    "df_2000_2020_Mie_NEW.loc[:,'DMPS ($\\sigma_{\\mathrm{sp-Mie}}$)'] = 3"
   ]
  },
  {
   "cell_type": "markdown",
   "id": "8f165f67",
   "metadata": {},
   "source": [
    "# Figure S1"
   ]
  },
  {
   "cell_type": "code",
   "execution_count": null,
   "id": "bdfad1a6",
   "metadata": {
    "ExecuteTime": {
     "end_time": "2023-12-29T11:18:13.748566Z",
     "start_time": "2023-12-29T11:18:03.963Z"
    }
   },
   "outputs": [],
   "source": [
    "fig = fu_data_avail.plot_data_availability(dfs, dict_instru_variables, dti=dti,\n",
    "                                          df_2000_2020_Mie_OLD=df_2000_2020_Mie_OLD,\n",
    "                                          df_2000_2020_Mie_NEW=df_2000_2020_Mie_NEW)\n",
    "fu_data_avail.save_plot(fig, savepath, name='FigureS1', formate='.png', dpi=300)"
   ]
  },
  {
   "cell_type": "code",
   "execution_count": null,
   "id": "d13fc13b",
   "metadata": {
    "ExecuteTime": {
     "end_time": "2023-12-29T11:18:13.748566Z",
     "start_time": "2023-12-29T11:18:03.964Z"
    }
   },
   "outputs": [],
   "source": [
    "for count, name in enumerate(dfs.keys()):\n",
    "    print(name)\n",
    "    df = dfs[name]   \n",
    "    print(\"start: \"+str(df.index[0]))\n",
    "    print(\"end: \"+str(df.index[-1]))"
   ]
  },
  {
   "cell_type": "code",
   "execution_count": null,
   "id": "30de2c56",
   "metadata": {},
   "outputs": [],
   "source": []
  }
 ],
 "metadata": {
  "kernelspec": {
   "display_name": "Python 3",
   "language": "python",
   "name": "python3"
  },
  "language_info": {
   "codemirror_mode": {
    "name": "ipython",
    "version": 3
   },
   "file_extension": ".py",
   "mimetype": "text/x-python",
   "name": "python",
   "nbconvert_exporter": "python",
   "pygments_lexer": "ipython3",
   "version": "3.8.6"
  },
  "toc": {
   "base_numbering": 1,
   "nav_menu": {},
   "number_sections": true,
   "sideBar": true,
   "skip_h1_title": false,
   "title_cell": "Table of Contents",
   "title_sidebar": "Contents",
   "toc_cell": false,
   "toc_position": {},
   "toc_section_display": true,
   "toc_window_display": false
  },
  "varInspector": {
   "cols": {
    "lenName": 16,
    "lenType": 16,
    "lenVar": 40
   },
   "kernels_config": {
    "python": {
     "delete_cmd_postfix": "",
     "delete_cmd_prefix": "del ",
     "library": "var_list.py",
     "varRefreshCmd": "print(var_dic_list())"
    },
    "r": {
     "delete_cmd_postfix": ") ",
     "delete_cmd_prefix": "rm(",
     "library": "var_list.r",
     "varRefreshCmd": "cat(var_dic_list()) "
    }
   },
   "types_to_exclude": [
    "module",
    "function",
    "builtin_function_or_method",
    "instance",
    "_Feature"
   ],
   "window_display": false
  }
 },
 "nbformat": 4,
 "nbformat_minor": 5
}

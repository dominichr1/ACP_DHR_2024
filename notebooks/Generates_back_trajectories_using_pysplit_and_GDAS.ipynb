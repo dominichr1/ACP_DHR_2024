{
 "cells": [
  {
   "cell_type": "markdown",
   "id": "0401cae3",
   "metadata": {
    "ExecuteTime": {
     "end_time": "2022-11-30T08:27:05.395975Z",
     "start_time": "2022-11-30T08:27:05.389974Z"
    }
   },
   "source": [
    "# Generates back trajectories using pysplit and GDAS\n",
    "\n",
    "Information: https://github.com/mscross/pysplit <br>\n",
    "Met files: ftp://ftp.arl.noaa.gov/pub/archives/gdas1 (You can download multiple files from the sever: Using a software such as FileZilla)\n",
    "\n",
    "CONTROL FORMAT: https://www.ready.noaa.gov/hysplitusersguide/S262.htm\n",
    "setup: https://www.ready.noaa.gov/hysplitusersguide/S413.htm \n",
    "https://www.ready.noaa.gov/hysplitusersguide/S610.htm\n",
    "\n",
    "user guide: https://www.arl.noaa.gov/documents/reports/hysplit_user_guide.pdf"
   ]
  },
  {
   "cell_type": "code",
   "execution_count": 1,
   "id": "a8c2b3c6",
   "metadata": {
    "ExecuteTime": {
     "end_time": "2023-11-24T20:06:46.054917Z",
     "start_time": "2023-11-24T20:06:44.039440Z"
    }
   },
   "outputs": [],
   "source": [
    "import os\n",
    "os.environ[\"PROJ_LIB\"] = \"C:\\\\Utilities\\\\Python\\\\Anaconda\\\\Library\\\\share\"; #fixr\n",
    "import pysplit"
   ]
  },
  {
   "cell_type": "markdown",
   "id": "f98884af",
   "metadata": {},
   "source": [
    "The next argument is the basename of each trajectory.  Each trajectory\n",
    "filename will consist of this basename followed by the altitude and season,\n",
    "and then the year, month, day, and hour in the format YYYYMMDDHH (unless\n",
    "otherwise specified as YYMMDDHH)..\n",
    "<br>\n",
    "producing for example = ***GDAS1apr0250spring2005040101***"
   ]
  },
  {
   "cell_type": "markdown",
   "id": "791032ab",
   "metadata": {},
   "source": [
    "## Ensemble continued: \n",
    "\n",
    "The ensemble form of the model automatically starts multiple trajectories from the selected starting point. Each member\n",
    "of the trajectory ensemble is calculated by offsetting the meteorological data by a fixed grid factor as defined in the\n",
    "Advanced Trajectory Configuration tab. The default offset is one meteorological grid point in the horizontal and 0.01\n",
    "sigma units in the vertical. This results in 27 members for all-possible offsets in X, Y, and Z. After the model\n",
    "calculation has completed, use the normal Trajectory Display tab to view the results. Because the offset is computed in\n",
    "both directions in the vertical from the starting location, a starting location at the ground would not provide an optimal\n",
    "configuration for this type of simulation. The default vertical offset is about 250 m. Therefore this should be the\n",
    "minimum starting height for ensemble trajectories, unless the default offset is changed in the namelist file. An example\n",
    "of the ensemble trajectory using the example meteorological data is shown in the illustration below."
   ]
  },
  {
   "cell_type": "code",
   "execution_count": 2,
   "id": "f2217b02",
   "metadata": {
    "ExecuteTime": {
     "end_time": "2023-11-24T22:38:22.792530Z",
     "start_time": "2023-11-24T20:06:46.054917Z"
    }
   },
   "outputs": [
    {
     "name": "stdout",
     "output_type": "stream",
     "text": [
      "year: 2023\n",
      "[2023]\n",
      "2023\n"
     ]
    }
   ],
   "source": [
    "basename = 'GDAS1'\n",
    "\n",
    "for year in [2023]:\n",
    "    print(\"year: \"+str(year))    \n",
    "    years = [year]\n",
    "    print(years) \n",
    "    months = [1,2,3,4,5,6,7,8,9,10,11,12]\n",
    "    if year == 2005:\n",
    "        print(\"2005\")\n",
    "        months = [5,6,7,8,9,10,11,12]\n",
    "    if year == 2008:\n",
    "        print(\"2008\")\n",
    "        months = [9,10,11,12]\n",
    "    if year == 2012:\n",
    "        print(\"2012\")\n",
    "        months = [2]\n",
    "    if year == 2010:\n",
    "        print(\"2010\")\n",
    "        months = [10,11,12]\n",
    "    if year == 2013:\n",
    "        print(\"2013\")\n",
    "        months = [10,11,12] \n",
    "    if year == 2016:\n",
    "        print(\"2016\")\n",
    "        months = [9,10,11,12] \n",
    "    if year == 2018:\n",
    "        print(\"2018\")\n",
    "        months = [3,4,5,6,7,8,9,10,11,12]\n",
    "    if year == 2017:\n",
    "        print(\"2017\")\n",
    "        months = [2,3,4,5,6,7,8,9,10,11,12]  \n",
    "    if year == 2019:\n",
    "        print(\"2019\")\n",
    "        months = [4,5,6,7,8,9,10,11,12]   \n",
    "    if year == 2020:\n",
    "        print(\"2020\")\n",
    "        months = [4,5,6,7,8,9,10,11,12]   \n",
    "    if year == 2023:\n",
    "        print(\"2023\")\n",
    "        months = [7]  \n",
    "    hours = [0,1,2,3,4,5,6,7,8,9,10,11,12,13,14,15,16,17,18,19,20,21,22,23]\n",
    "    altitudes = [250]\n",
    "    location = (78.906, 11.888) #ZEP_lat=78.906,ZEP_lon=11.888\n",
    "    runtime = -240 #10 DAYS\n",
    "\n",
    "    basename = 'GDAS1'\n",
    "    working_dir = r'C:/hysplit/working/'\n",
    "    storage_dir = r'D:/HYSPLIT_runs_ensemble/'+str(year) \n",
    "    meteo_dir = r'D:/GDAS_met_files' \n",
    "    hysplit=\"C:/hysplit/exec/hyts_ens\" #ensemble\n",
    "\n",
    "    pysplit.generate_bulktraj(basename, working_dir, storage_dir, meteo_dir, years,\n",
    "                          months, hours, altitudes, location, runtime,\n",
    "                          meteoyr_2digits=True, outputyr_2digits=False,\n",
    "                          monthslice=slice(19, 32, 1), meteo_bookends=([4, 5], [1]),\n",
    "                          get_reverse=False, get_clipped=False,\n",
    "                          hysplit=hysplit)"
   ]
  },
  {
   "cell_type": "code",
   "execution_count": null,
   "id": "7d88b9a9",
   "metadata": {},
   "outputs": [],
   "source": []
  }
 ],
 "metadata": {
  "kernelspec": {
   "display_name": "Python 3",
   "language": "python",
   "name": "python3"
  },
  "language_info": {
   "codemirror_mode": {
    "name": "ipython",
    "version": 3
   },
   "file_extension": ".py",
   "mimetype": "text/x-python",
   "name": "python",
   "nbconvert_exporter": "python",
   "pygments_lexer": "ipython3",
   "version": "3.8.6"
  },
  "toc": {
   "base_numbering": 1,
   "nav_menu": {},
   "number_sections": true,
   "sideBar": true,
   "skip_h1_title": false,
   "title_cell": "Table of Contents",
   "title_sidebar": "Contents",
   "toc_cell": false,
   "toc_position": {},
   "toc_section_display": true,
   "toc_window_display": false
  },
  "varInspector": {
   "cols": {
    "lenName": 16,
    "lenType": 16,
    "lenVar": 40
   },
   "kernels_config": {
    "python": {
     "delete_cmd_postfix": "",
     "delete_cmd_prefix": "del ",
     "library": "var_list.py",
     "varRefreshCmd": "print(var_dic_list())"
    },
    "r": {
     "delete_cmd_postfix": ") ",
     "delete_cmd_prefix": "rm(",
     "library": "var_list.r",
     "varRefreshCmd": "cat(var_dic_list()) "
    }
   },
   "types_to_exclude": [
    "module",
    "function",
    "builtin_function_or_method",
    "instance",
    "_Feature"
   ],
   "window_display": false
  }
 },
 "nbformat": 4,
 "nbformat_minor": 5
}
